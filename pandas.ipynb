{
 "cells": [
  {
   "cell_type": "code",
   "execution_count": null,
   "id": "a2aafa1e",
   "metadata": {},
   "outputs": [],
   "source": [
    "import pandas as pd\n",
    "\n",
    "df = pd.read_csv(r\"C:\\\\Users\\\\kevyn\\\\OneDrive\\\\Área de Trabalho\\\\Pandas\\\\PDA_Lista_Instituicoes_Ensino_Superior_do_Brasil_EMEC (1).csv\")\n",
    "\n",
    "print(df.head)\n"
   ]
  },
  {
   "cell_type": "markdown",
   "id": "3dd2ec21",
   "metadata": {},
   "source": [
    "Geramos uma cópia do arquivo csv, para trabalharmos com esse dataframe auxiliar, sem alterar o original."
   ]
  },
  {
   "cell_type": "code",
   "execution_count": 3,
   "id": "fbca7c5d",
   "metadata": {},
   "outputs": [],
   "source": [
    "df_aux = df.copy()"
   ]
  },
  {
   "cell_type": "markdown",
   "id": "09e5e157",
   "metadata": {},
   "source": [
    "Teste para verificar se a cópia foi bem sucedida."
   ]
  },
  {
   "cell_type": "code",
   "execution_count": null,
   "id": "02d9156b",
   "metadata": {},
   "outputs": [],
   "source": [
    "print(\" Dataframe inicial \")\n",
    "print(df.head)\n",
    "\n",
    "print(\" Dataframe Auxiliar \")\n",
    "print(df_aux.head)"
   ]
  },
  {
   "cell_type": "markdown",
   "id": "781abf1e",
   "metadata": {},
   "source": [
    "Havia inconsistências nos nomes das instituições, pois Algumas estavavam Em UpperCase e outras em LowerCase, com isso a função title do pandas, modifica todas as linhas da coluna colocando a primeira letra de cada palavra em Maiúsculo e o restante da palavra em Minúsculo."
   ]
  },
  {
   "cell_type": "code",
   "execution_count": null,
   "id": "46366d35",
   "metadata": {},
   "outputs": [],
   "source": [
    "df_aux['NOME_DA_IES']= df_aux['NOME_DA_IES'].str.title()\n",
    "\n",
    "print(df_aux.head)"
   ]
  },
  {
   "cell_type": "markdown",
   "id": "41379652",
   "metadata": {},
   "source": [
    "Logo após a normalização dos nome das instituições, verificamos se existem linhas nulas na coluna NOME_DA_IES, através da função isnull() e com outra função complementar sum() que faz a soma de todos os termos nulos da coluna."
   ]
  },
  {
   "cell_type": "code",
   "execution_count": 21,
   "id": "3d3fe7bf",
   "metadata": {},
   "outputs": [
    {
     "name": "stdout",
     "output_type": "stream",
     "text": [
      "0\n"
     ]
    }
   ],
   "source": [
    "linhas_nulas= df_aux['NOME_DA_IES'].isnull().sum()\n",
    "\n",
    "print(linhas_nulas)"
   ]
  },
  {
   "cell_type": "code",
   "execution_count": 32,
   "id": "8538847b",
   "metadata": {},
   "outputs": [
    {
     "name": "stdout",
     "output_type": "stream",
     "text": [
      "851\n"
     ]
    }
   ],
   "source": [
    "siglas_nulas= df['SIGLA'].isnull().sum()\n",
    "\n",
    "print(siglas_nulas)"
   ]
  },
  {
   "cell_type": "markdown",
   "id": "cb760eee",
   "metadata": {},
   "source": [
    "Na coluna SIGLA haviam campos vazios declarados como nulos ou NaN( Not a Number) -->( Não é um Número) é usado para algo indefinido, com isso através da função fillna adicionamos a esses valores o campo \" Não informado\"."
   ]
  },
  {
   "cell_type": "code",
   "execution_count": null,
   "id": "ab737daa",
   "metadata": {},
   "outputs": [],
   "source": [
    "df_aux['SIGLA']= df_aux['SIGLA'].fillna(\" Não informado\")\n",
    "\n",
    "print(df_aux.head)"
   ]
  },
  {
   "cell_type": "code",
   "execution_count": null,
   "id": "019d4b01",
   "metadata": {},
   "outputs": [],
   "source": [
    "# Normalizando o tipo de Instituições\n",
    "df_aux['CATEGORIA_DA_IES']= df_aux['CATEGORIA_DA_IES'].str.replace('PÃºblica','Publica')\n",
    "\n",
    "print(df_aux.head)"
   ]
  },
  {
   "cell_type": "code",
   "execution_count": 23,
   "id": "ad2c3b75",
   "metadata": {},
   "outputs": [
    {
     "name": "stdout",
     "output_type": "stream",
     "text": [
      "0\n"
     ]
    }
   ],
   "source": [
    "categ_nulas= df_aux['NOME_DA_IES'].isnull().sum()\n",
    "\n",
    "print(categ_nulas)"
   ]
  },
  {
   "cell_type": "code",
   "execution_count": null,
   "id": "687fa33d",
   "metadata": {},
   "outputs": [],
   "source": [
    "\n",
    "dic ={'S': 'Sim', 'N' :'Não'}\n",
    "\n",
    "df_aux['COMUNITARIA']= df_aux['COMUNITARIA'].replace(dic)\n",
    "\n",
    "print(df_aux.head)"
   ]
  },
  {
   "cell_type": "code",
   "execution_count": null,
   "id": "09031959",
   "metadata": {},
   "outputs": [],
   "source": [
    "dic ={'S': 'Sim', 'N' :'Não'}\n",
    "\n",
    "df_aux['CONFESSIONAL']= df_aux['CONFESSIONAL'].replace(dic)\n",
    "\n",
    "print(df_aux.head)"
   ]
  },
  {
   "cell_type": "code",
   "execution_count": null,
   "id": "e1b14693",
   "metadata": {},
   "outputs": [],
   "source": [
    "dic ={'S': 'Sim', 'N' :'Não'}\n",
    "\n",
    "df_aux['FILANTROPICA']= df_aux['FILANTROPICA'].replace(dic)\n",
    "\n",
    "print(df_aux.head)"
   ]
  },
  {
   "cell_type": "code",
   "execution_count": null,
   "id": "52064a52",
   "metadata": {},
   "outputs": [],
   "source": [
    "print(df_aux.dtypes)"
   ]
  }
 ],
 "metadata": {
  "kernelspec": {
   "display_name": "Python 3",
   "language": "python",
   "name": "python3"
  },
  "language_info": {
   "codemirror_mode": {
    "name": "ipython",
    "version": 3
   },
   "file_extension": ".py",
   "mimetype": "text/x-python",
   "name": "python",
   "nbconvert_exporter": "python",
   "pygments_lexer": "ipython3",
   "version": "3.11.4"
  }
 },
 "nbformat": 4,
 "nbformat_minor": 5
}
