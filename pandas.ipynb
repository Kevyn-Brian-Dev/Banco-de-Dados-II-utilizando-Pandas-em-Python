{
 "cells": [
  {
   "cell_type": "code",
   "execution_count": null,
   "id": "a2aafa1e",
   "metadata": {},
   "outputs": [],
   "source": [
    "import pandas as pd\n",
    "\n",
    "df = pd.read_csv(r\"C:\\\\Users\\\\kevyn\\\\OneDrive\\\\Área de Trabalho\\\\Pandas\\\\PDA_Lista_Instituicoes_Ensino_Superior_do_Brasil_EMEC (1).csv\")\n",
    "\n",
    "print(df.head)\n"
   ]
  },
  {
   "cell_type": "markdown",
   "id": "56ecaef6",
   "metadata": {},
   "source": [
    "Leitura do arquivo principal"
   ]
  },
  {
   "cell_type": "code",
   "execution_count": 90,
   "id": "030dcd44",
   "metadata": {},
   "outputs": [
    {
     "name": "stdout",
     "output_type": "stream",
     "text": [
      "<bound method NDFrame.head of       CODIGO_DA_IES                                        NOME_DA_IES  \\\n",
      "0             21995             Faculdade de Tecnologia Senac Curitiba   \n",
      "1              1768                         FACULDADE REGIONAL SERRANA   \n",
      "2             23261       Faculdade São Judas de São Bernardo do Campo   \n",
      "3             14123  Faculdade Presidente Antônio Carlos de Bom Suc...   \n",
      "4             17952                 Faculdade de Tecnologia de Jacareí   \n",
      "...             ...                                                ...   \n",
      "4520          15792                              Faculdade de Rondônia   \n",
      "4521           1888                         FACULDADE DE SAÚDE TECSOMA   \n",
      "4522            925        FACULDADE DE CIÊNCIAS GERÊNCIAIS DE VILHENA   \n",
      "4523          22739                        Instituto SOCIESC de Itajaí   \n",
      "4524           5290  FACULDADE ANHANGUERA DE CIÊNCIAS E TECNOLOGIA ...   \n",
      "\n",
      "                   SIGLA CATEGORIA_DA_IES COMUNITARIA CONFESSIONAL  \\\n",
      "0                    NaN          Privada           N            N   \n",
      "1                 FUNPAC          Privada           N            N   \n",
      "2                    NaN          Privada           N            N   \n",
      "3     FUNEES Bom Sucesso          Privada           N            N   \n",
      "4          FATEC Jacareí          Pública           N            N   \n",
      "...                  ...              ...         ...          ...   \n",
      "4520                FARO          Privada           N            N   \n",
      "4521              FASTEC          Privada           N            N   \n",
      "4522                FCGV          Privada           N            N   \n",
      "4523             SOCIESC          Privada           N            N   \n",
      "4524                 NaN          Privada           N            N   \n",
      "\n",
      "     FILANTROPICA ORGANIZACAO_ACADEMICA  CODIGO_MUNICIPIO_IBGE  \\\n",
      "0               N             Faculdade              4106902.0   \n",
      "1               N             Faculdade              3205069.0   \n",
      "2               N             Faculdade              3548708.0   \n",
      "3               N             Faculdade              3108008.0   \n",
      "4               N             Faculdade              3524402.0   \n",
      "...           ...                   ...                    ...   \n",
      "4520            N             Faculdade                    NaN   \n",
      "4521            N             Faculdade                    NaN   \n",
      "4522            N             Faculdade                    NaN   \n",
      "4523            N             Faculdade                    NaN   \n",
      "4524            N             Faculdade                    NaN   \n",
      "\n",
      "                    MUNICIPIO   UF SITUACAO_IES  \n",
      "0                    Curitiba   PR        Ativa  \n",
      "1     Venda Nova do Imigrante   ES      Extinta  \n",
      "2       São Bernardo do Campo   SP        Ativa  \n",
      "3                 Bom Sucesso   MG      Extinta  \n",
      "4                     Jacareí   SP        Ativa  \n",
      "...                       ...  ...          ...  \n",
      "4520                      NaN  NaN      Extinta  \n",
      "4521                      NaN  NaN      Extinta  \n",
      "4522                      NaN  NaN      Extinta  \n",
      "4523                      NaN  NaN      Extinta  \n",
      "4524                      NaN  NaN      Extinta  \n",
      "\n",
      "[4525 rows x 12 columns]>\n"
     ]
    }
   ],
   "source": [
    "import pandas as pd\n",
    "\n",
    "df = pd.read_csv(r\"C:\\\\Users\\\\Renan\\\\Desktop\\\\Banco-de-Dados-II-utilizando-Pandas-em-Python\\\\base_dados\\\\PDA_Lista_Instituicoes_Ensino_Superior_do_Brasil_EMEC (1).csv\")\n",
    "\n",
    "print(df.head)\n",
    "\n"
   ]
  },
  {
   "cell_type": "markdown",
   "id": "3dd2ec21",
   "metadata": {},
   "source": [
    "Geramos uma cópia do arquivo csv, para trabalharmos com esse dataframe auxiliar, sem alterar o original."
   ]
  },
  {
   "cell_type": "code",
   "execution_count": 91,
   "id": "fbca7c5d",
   "metadata": {},
   "outputs": [],
   "source": [
    "df_aux = df.copy()"
   ]
  },
  {
   "cell_type": "code",
   "execution_count": 107,
   "id": "25f0673b",
   "metadata": {},
   "outputs": [],
   "source": [
    "df_aux.to_csv(\"df_auxiliar.csv\", index=False, encoding='utf-8')"
   ]
  },
  {
   "cell_type": "markdown",
   "id": "09e5e157",
   "metadata": {},
   "source": [
    "Teste para verificar se a cópia foi bem sucedida."
   ]
  },
  {
   "cell_type": "code",
   "execution_count": 92,
   "id": "02d9156b",
   "metadata": {},
   "outputs": [
    {
     "name": "stdout",
     "output_type": "stream",
     "text": [
      " Dataframe inicial \n",
      "<bound method NDFrame.head of       CODIGO_DA_IES                                        NOME_DA_IES  \\\n",
      "0             21995             Faculdade de Tecnologia Senac Curitiba   \n",
      "1              1768                         FACULDADE REGIONAL SERRANA   \n",
      "2             23261       Faculdade São Judas de São Bernardo do Campo   \n",
      "3             14123  Faculdade Presidente Antônio Carlos de Bom Suc...   \n",
      "4             17952                 Faculdade de Tecnologia de Jacareí   \n",
      "...             ...                                                ...   \n",
      "4520          15792                              Faculdade de Rondônia   \n",
      "4521           1888                         FACULDADE DE SAÚDE TECSOMA   \n",
      "4522            925        FACULDADE DE CIÊNCIAS GERÊNCIAIS DE VILHENA   \n",
      "4523          22739                        Instituto SOCIESC de Itajaí   \n",
      "4524           5290  FACULDADE ANHANGUERA DE CIÊNCIAS E TECNOLOGIA ...   \n",
      "\n",
      "                   SIGLA CATEGORIA_DA_IES COMUNITARIA CONFESSIONAL  \\\n",
      "0                    NaN          Privada           N            N   \n",
      "1                 FUNPAC          Privada           N            N   \n",
      "2                    NaN          Privada           N            N   \n",
      "3     FUNEES Bom Sucesso          Privada           N            N   \n",
      "4          FATEC Jacareí          Pública           N            N   \n",
      "...                  ...              ...         ...          ...   \n",
      "4520                FARO          Privada           N            N   \n",
      "4521              FASTEC          Privada           N            N   \n",
      "4522                FCGV          Privada           N            N   \n",
      "4523             SOCIESC          Privada           N            N   \n",
      "4524                 NaN          Privada           N            N   \n",
      "\n",
      "     FILANTROPICA ORGANIZACAO_ACADEMICA  CODIGO_MUNICIPIO_IBGE  \\\n",
      "0               N             Faculdade              4106902.0   \n",
      "1               N             Faculdade              3205069.0   \n",
      "2               N             Faculdade              3548708.0   \n",
      "3               N             Faculdade              3108008.0   \n",
      "4               N             Faculdade              3524402.0   \n",
      "...           ...                   ...                    ...   \n",
      "4520            N             Faculdade                    NaN   \n",
      "4521            N             Faculdade                    NaN   \n",
      "4522            N             Faculdade                    NaN   \n",
      "4523            N             Faculdade                    NaN   \n",
      "4524            N             Faculdade                    NaN   \n",
      "\n",
      "                    MUNICIPIO   UF SITUACAO_IES  \n",
      "0                    Curitiba   PR        Ativa  \n",
      "1     Venda Nova do Imigrante   ES      Extinta  \n",
      "2       São Bernardo do Campo   SP        Ativa  \n",
      "3                 Bom Sucesso   MG      Extinta  \n",
      "4                     Jacareí   SP        Ativa  \n",
      "...                       ...  ...          ...  \n",
      "4520                      NaN  NaN      Extinta  \n",
      "4521                      NaN  NaN      Extinta  \n",
      "4522                      NaN  NaN      Extinta  \n",
      "4523                      NaN  NaN      Extinta  \n",
      "4524                      NaN  NaN      Extinta  \n",
      "\n",
      "[4525 rows x 12 columns]>\n"
     ]
    }
   ],
   "source": [
    "print(\" Dataframe inicial \")\n",
    "print(df.head)\n",
    "\n"
   ]
  },
  {
   "cell_type": "code",
   "execution_count": 93,
   "id": "75164f8c",
   "metadata": {},
   "outputs": [
    {
     "name": "stdout",
     "output_type": "stream",
     "text": [
      " Dataframe Auxiliar \n",
      "<bound method NDFrame.head of       CODIGO_DA_IES                                        NOME_DA_IES  \\\n",
      "0             21995             Faculdade de Tecnologia Senac Curitiba   \n",
      "1              1768                         FACULDADE REGIONAL SERRANA   \n",
      "2             23261       Faculdade São Judas de São Bernardo do Campo   \n",
      "3             14123  Faculdade Presidente Antônio Carlos de Bom Suc...   \n",
      "4             17952                 Faculdade de Tecnologia de Jacareí   \n",
      "...             ...                                                ...   \n",
      "4520          15792                              Faculdade de Rondônia   \n",
      "4521           1888                         FACULDADE DE SAÚDE TECSOMA   \n",
      "4522            925        FACULDADE DE CIÊNCIAS GERÊNCIAIS DE VILHENA   \n",
      "4523          22739                        Instituto SOCIESC de Itajaí   \n",
      "4524           5290  FACULDADE ANHANGUERA DE CIÊNCIAS E TECNOLOGIA ...   \n",
      "\n",
      "                   SIGLA CATEGORIA_DA_IES COMUNITARIA CONFESSIONAL  \\\n",
      "0                    NaN          Privada           N            N   \n",
      "1                 FUNPAC          Privada           N            N   \n",
      "2                    NaN          Privada           N            N   \n",
      "3     FUNEES Bom Sucesso          Privada           N            N   \n",
      "4          FATEC Jacareí          Pública           N            N   \n",
      "...                  ...              ...         ...          ...   \n",
      "4520                FARO          Privada           N            N   \n",
      "4521              FASTEC          Privada           N            N   \n",
      "4522                FCGV          Privada           N            N   \n",
      "4523             SOCIESC          Privada           N            N   \n",
      "4524                 NaN          Privada           N            N   \n",
      "\n",
      "     FILANTROPICA ORGANIZACAO_ACADEMICA  CODIGO_MUNICIPIO_IBGE  \\\n",
      "0               N             Faculdade              4106902.0   \n",
      "1               N             Faculdade              3205069.0   \n",
      "2               N             Faculdade              3548708.0   \n",
      "3               N             Faculdade              3108008.0   \n",
      "4               N             Faculdade              3524402.0   \n",
      "...           ...                   ...                    ...   \n",
      "4520            N             Faculdade                    NaN   \n",
      "4521            N             Faculdade                    NaN   \n",
      "4522            N             Faculdade                    NaN   \n",
      "4523            N             Faculdade                    NaN   \n",
      "4524            N             Faculdade                    NaN   \n",
      "\n",
      "                    MUNICIPIO   UF SITUACAO_IES  \n",
      "0                    Curitiba   PR        Ativa  \n",
      "1     Venda Nova do Imigrante   ES      Extinta  \n",
      "2       São Bernardo do Campo   SP        Ativa  \n",
      "3                 Bom Sucesso   MG      Extinta  \n",
      "4                     Jacareí   SP        Ativa  \n",
      "...                       ...  ...          ...  \n",
      "4520                      NaN  NaN      Extinta  \n",
      "4521                      NaN  NaN      Extinta  \n",
      "4522                      NaN  NaN      Extinta  \n",
      "4523                      NaN  NaN      Extinta  \n",
      "4524                      NaN  NaN      Extinta  \n",
      "\n",
      "[4525 rows x 12 columns]>\n"
     ]
    }
   ],
   "source": [
    "print(\" Dataframe Auxiliar \")\n",
    "print(df_aux.head)"
   ]
  },
  {
   "cell_type": "markdown",
   "id": "781abf1e",
   "metadata": {},
   "source": [
    "Havia inconsistências nos nomes das instituições, pois Algumas estavavam Em UpperCase e outras em LowerCase, com isso a função title do pandas, modifica todas as linhas da coluna colocando a primeira letra de cada palavra em Maiúsculo e o restante da palavra em Minúsculo."
   ]
  },
  {
   "cell_type": "code",
   "execution_count": 94,
   "id": "46366d35",
   "metadata": {},
   "outputs": [
    {
     "name": "stdout",
     "output_type": "stream",
     "text": [
      "                                            NOME_DA_IES    SIGLA\n",
      "4520                              Faculdade de Rondônia     FARO\n",
      "4521                         FACULDADE DE SAÚDE TECSOMA   FASTEC\n",
      "4522        FACULDADE DE CIÊNCIAS GERÊNCIAIS DE VILHENA     FCGV\n",
      "4523                        Instituto SOCIESC de Itajaí  SOCIESC\n",
      "4524  FACULDADE ANHANGUERA DE CIÊNCIAS E TECNOLOGIA ...      NaN\n",
      "                                         NOME_DA_IES               SIGLA\n",
      "0             Faculdade De Tecnologia Senac Curitiba                 NaN\n",
      "1                         Faculdade Regional Serrana              FUNPAC\n",
      "2       Faculdade São Judas De São Bernardo Do Campo                 NaN\n",
      "3  Faculdade Presidente Antônio Carlos De Bom Suc...  FUNEES Bom Sucesso\n",
      "4                 Faculdade De Tecnologia De Jacareí       FATEC Jacareí\n"
     ]
    }
   ],
   "source": [
    "df_aux['NOME_DA_IES']= df_aux['NOME_DA_IES'].str.title()\n",
    "\n",
    "print(df[['NOME_DA_IES','SIGLA']].tail(5))\n",
    "print(df_aux[['NOME_DA_IES','SIGLA']].head(5))"
   ]
  },
  {
   "cell_type": "markdown",
   "id": "41379652",
   "metadata": {},
   "source": [
    "Logo após a normalização dos nome das instituições, verificamos se existem linhas nulas na coluna NOME_DA_IES, através da função isnull() e com outra função complementar sum() que faz a soma de todos os termos nulos da coluna."
   ]
  },
  {
   "cell_type": "code",
   "execution_count": 95,
   "id": "3d3fe7bf",
   "metadata": {},
   "outputs": [
    {
     "name": "stdout",
     "output_type": "stream",
     "text": [
      "0\n"
     ]
    }
   ],
   "source": [
    "linhas_nulas= df_aux['NOME_DA_IES'].isnull().sum()\n",
    "\n",
    "print(linhas_nulas)"
   ]
  },
  {
   "cell_type": "markdown",
   "id": "cb760eee",
   "metadata": {},
   "source": [
    "Na coluna SIGLA haviam campos vazios declarados como nulos ou NaN( Not a Number) -->( Não é um Número) é usado para algo indefinido, com isso através da função fillna adicionamos a esses valores o campo \" Não informado\"."
   ]
  },
  {
   "cell_type": "code",
   "execution_count": 96,
   "id": "ab737daa",
   "metadata": {},
   "outputs": [
    {
     "name": "stdout",
     "output_type": "stream",
     "text": [
      "                                         NOME_DA_IES               SIGLA\n",
      "0             Faculdade de Tecnologia Senac Curitiba                 NaN\n",
      "1                         FACULDADE REGIONAL SERRANA              FUNPAC\n",
      "2       Faculdade São Judas de São Bernardo do Campo                 NaN\n",
      "3  Faculdade Presidente Antônio Carlos de Bom Suc...  FUNEES Bom Sucesso\n",
      "4                 Faculdade de Tecnologia de Jacareí       FATEC Jacareí\n",
      "\n",
      "                                         NOME_DA_IES               SIGLA\n",
      "0             Faculdade De Tecnologia Senac Curitiba       Não Informado\n",
      "1                         Faculdade Regional Serrana              FUNPAC\n",
      "2       Faculdade São Judas De São Bernardo Do Campo       Não Informado\n",
      "3  Faculdade Presidente Antônio Carlos De Bom Suc...  FUNEES Bom Sucesso\n",
      "4                 Faculdade De Tecnologia De Jacareí       FATEC Jacareí\n"
     ]
    }
   ],
   "source": [
    "df_aux['SIGLA']= df_aux['SIGLA'].fillna(\"Não Informado\")\n",
    "\n",
    "\n",
    "print(df[['NOME_DA_IES','SIGLA']].head(5))\n",
    "print()\n",
    "print(df_aux[['NOME_DA_IES','SIGLA']].head(5))"
   ]
  },
  {
   "cell_type": "markdown",
   "id": "367abf8c",
   "metadata": {},
   "source": [
    "Na coluna CATEGORIA_DA_IES havia dados escritos como Pãoblica, como isso trocamos para Publica"
   ]
  },
  {
   "cell_type": "code",
   "execution_count": 97,
   "id": "019d4b01",
   "metadata": {},
   "outputs": [
    {
     "name": "stdout",
     "output_type": "stream",
     "text": [
      "                                         NOME_DA_IES CATEGORIA_DA_IES\n",
      "0             Faculdade de Tecnologia Senac Curitiba          Privada\n",
      "1                         FACULDADE REGIONAL SERRANA          Privada\n",
      "2       Faculdade São Judas de São Bernardo do Campo          Privada\n",
      "3  Faculdade Presidente Antônio Carlos de Bom Suc...          Privada\n",
      "4                 Faculdade de Tecnologia de Jacareí          Pública\n",
      "                                         NOME_DA_IES CATEGORIA_DA_IES\n",
      "0             Faculdade De Tecnologia Senac Curitiba          Privada\n",
      "1                         Faculdade Regional Serrana          Privada\n",
      "2       Faculdade São Judas De São Bernardo Do Campo          Privada\n",
      "3  Faculdade Presidente Antônio Carlos De Bom Suc...          Privada\n",
      "4                 Faculdade De Tecnologia De Jacareí          Pública\n"
     ]
    }
   ],
   "source": [
    "\n",
    "df_aux['CATEGORIA_DA_IES']= df_aux['CATEGORIA_DA_IES'].str.replace('PÃºblica','Pblica')\n",
    "\n",
    "\n",
    "print(df[['NOME_DA_IES','CATEGORIA_DA_IES']].head(5))\n",
    "print(df_aux[['NOME_DA_IES','CATEGORIA_DA_IES']].head(5))"
   ]
  },
  {
   "cell_type": "markdown",
   "id": "de05c187",
   "metadata": {},
   "source": [
    "Nas colunas COMUNITARIA,CONFESSIONAL,FILANTROPICA onde se tinha N e S trocamos por Não e Sim"
   ]
  },
  {
   "cell_type": "code",
   "execution_count": 98,
   "id": "687fa33d",
   "metadata": {},
   "outputs": [
    {
     "name": "stdout",
     "output_type": "stream",
     "text": [
      "                                         NOME_DA_IES COMUNITARIA\n",
      "0             Faculdade De Tecnologia Senac Curitiba         Não\n",
      "1                         Faculdade Regional Serrana         Não\n",
      "2       Faculdade São Judas De São Bernardo Do Campo         Não\n",
      "3  Faculdade Presidente Antônio Carlos De Bom Suc...         Não\n",
      "4                 Faculdade De Tecnologia De Jacareí         Não\n",
      "\n",
      "                                         NOME_DA_IES COMUNITARIA\n",
      "0             Faculdade de Tecnologia Senac Curitiba           N\n",
      "1                         FACULDADE REGIONAL SERRANA           N\n",
      "2       Faculdade São Judas de São Bernardo do Campo           N\n",
      "3  Faculdade Presidente Antônio Carlos de Bom Suc...           N\n",
      "4                 Faculdade de Tecnologia de Jacareí           N\n"
     ]
    }
   ],
   "source": [
    "\n",
    "dic ={'S': 'Sim', 'N' :'Não'}\n",
    "\n",
    "df_aux['COMUNITARIA']= df_aux['COMUNITARIA'].replace(dic)\n",
    "\n",
    "print(df_aux[['NOME_DA_IES','COMUNITARIA']].head(5))\n",
    "print()\n",
    "print(df[['NOME_DA_IES','COMUNITARIA']].head(5))"
   ]
  },
  {
   "cell_type": "code",
   "execution_count": 99,
   "id": "09031959",
   "metadata": {},
   "outputs": [
    {
     "name": "stdout",
     "output_type": "stream",
     "text": [
      "                                         NOME_DA_IES CONFESSIONAL\n",
      "0             Faculdade De Tecnologia Senac Curitiba          Não\n",
      "1                         Faculdade Regional Serrana          Não\n",
      "2       Faculdade São Judas De São Bernardo Do Campo          Não\n",
      "3  Faculdade Presidente Antônio Carlos De Bom Suc...          Não\n",
      "4                 Faculdade De Tecnologia De Jacareí          Não\n",
      "\n",
      "                                         NOME_DA_IES CONFESSIONAL\n",
      "0             Faculdade de Tecnologia Senac Curitiba            N\n",
      "1                         FACULDADE REGIONAL SERRANA            N\n",
      "2       Faculdade São Judas de São Bernardo do Campo            N\n",
      "3  Faculdade Presidente Antônio Carlos de Bom Suc...            N\n",
      "4                 Faculdade de Tecnologia de Jacareí            N\n"
     ]
    }
   ],
   "source": [
    "dic ={'S': 'Sim', 'N' :'Não'}\n",
    "\n",
    "df_aux['CONFESSIONAL']= df_aux['CONFESSIONAL'].replace(dic)\n",
    "\n",
    "print(df_aux[['NOME_DA_IES','CONFESSIONAL']].head(5))\n",
    "print()\n",
    "print(df[['NOME_DA_IES','CONFESSIONAL']].head(5))"
   ]
  },
  {
   "cell_type": "code",
   "execution_count": 100,
   "id": "e1b14693",
   "metadata": {},
   "outputs": [
    {
     "name": "stdout",
     "output_type": "stream",
     "text": [
      "                                         NOME_DA_IES FILANTROPICA\n",
      "0             Faculdade De Tecnologia Senac Curitiba          Não\n",
      "1                         Faculdade Regional Serrana          Não\n",
      "2       Faculdade São Judas De São Bernardo Do Campo          Não\n",
      "3  Faculdade Presidente Antônio Carlos De Bom Suc...          Não\n",
      "4                 Faculdade De Tecnologia De Jacareí          Não\n",
      "\n",
      "                                         NOME_DA_IES FILANTROPICA\n",
      "0             Faculdade de Tecnologia Senac Curitiba            N\n",
      "1                         FACULDADE REGIONAL SERRANA            N\n",
      "2       Faculdade São Judas de São Bernardo do Campo            N\n",
      "3  Faculdade Presidente Antônio Carlos de Bom Suc...            N\n",
      "4                 Faculdade de Tecnologia de Jacareí            N\n"
     ]
    }
   ],
   "source": [
    "dic ={'S': 'Sim', 'N' :'Não'}\n",
    "\n",
    "df_aux['FILANTROPICA']= df_aux['FILANTROPICA'].replace(dic)\n",
    "\n",
    "print(df_aux[['NOME_DA_IES','FILANTROPICA']].head(5))\n",
    "print()\n",
    "print(df[['NOME_DA_IES','FILANTROPICA']].head(5))\n"
   ]
  },
  {
   "cell_type": "markdown",
   "id": "12e35f60",
   "metadata": {},
   "source": [
    "Na coluna MUNICIPIO havia muitas cidades com letras misturadas com UpperCase e LowerCase, então para padronizar , fizemos a alteração usando o title do pandas para deixar apenas as primereiras letras em Maiúsculo e tratamos onde estava vazio torna como Não Informado "
   ]
  },
  {
   "cell_type": "code",
   "execution_count": 101,
   "id": "79877375",
   "metadata": {},
   "outputs": [
    {
     "name": "stdout",
     "output_type": "stream",
     "text": [
      "                                         NOME_DA_IES                MUNICIPIO\n",
      "0             Faculdade De Tecnologia Senac Curitiba                 Curitiba\n",
      "1                         Faculdade Regional Serrana  Venda Nova Do Imigrante\n",
      "2       Faculdade São Judas De São Bernardo Do Campo    São Bernardo Do Campo\n",
      "3  Faculdade Presidente Antônio Carlos De Bom Suc...              Bom Sucesso\n",
      "4                 Faculdade De Tecnologia De Jacareí                  Jacareí\n",
      "\n",
      "                                         NOME_DA_IES                MUNICIPIO\n",
      "0             Faculdade de Tecnologia Senac Curitiba                 Curitiba\n",
      "1                         FACULDADE REGIONAL SERRANA  Venda Nova do Imigrante\n",
      "2       Faculdade São Judas de São Bernardo do Campo    São Bernardo do Campo\n",
      "3  Faculdade Presidente Antônio Carlos de Bom Suc...              Bom Sucesso\n",
      "4                 Faculdade de Tecnologia de Jacareí                  Jacareí\n"
     ]
    }
   ],
   "source": [
    "df_aux['MUNICIPIO']= df_aux['MUNICIPIO'].fillna(\"Não Informado\")\n",
    "\n",
    "df_aux['MUNICIPIO'] = df_aux['MUNICIPIO'].str.strip().str.title()\n",
    "\n",
    "print(df_aux[['NOME_DA_IES','MUNICIPIO']].head(5))\n",
    "print()\n",
    "print(df[['NOME_DA_IES','MUNICIPIO']].head(5))"
   ]
  },
  {
   "cell_type": "markdown",
   "id": "ef3bd6e0",
   "metadata": {},
   "source": [
    "Na coluna UF haviam campos vazios declarados como nulos ou NaN( Not a Number) -->( Não é um Número) é usado para algo indefinido, com isso através da função fillna adicionamos a esses valores o campo \" Não informado\"."
   ]
  },
  {
   "cell_type": "code",
   "execution_count": 102,
   "id": "853b30cc",
   "metadata": {},
   "outputs": [
    {
     "name": "stdout",
     "output_type": "stream",
     "text": [
      "<bound method Series.unique of 0                  PR\n",
      "1                  ES\n",
      "2                  SP\n",
      "3                  MG\n",
      "4                  SP\n",
      "            ...      \n",
      "4520    NÃO INFORMADO\n",
      "4521    NÃO INFORMADO\n",
      "4522    NÃO INFORMADO\n",
      "4523    NÃO INFORMADO\n",
      "4524    NÃO INFORMADO\n",
      "Name: UF, Length: 4525, dtype: object>\n",
      "\n",
      "<bound method Series.unique of 0        PR\n",
      "1        ES\n",
      "2        SP\n",
      "3        MG\n",
      "4        SP\n",
      "       ... \n",
      "4520    NaN\n",
      "4521    NaN\n",
      "4522    NaN\n",
      "4523    NaN\n",
      "4524    NaN\n",
      "Name: UF, Length: 4525, dtype: object>\n"
     ]
    }
   ],
   "source": [
    "df_aux['UF']= df_aux['UF'].fillna(\"Não Informado\")\n",
    "df_aux['UF'] = df_aux['UF'].str.strip().str.upper()\n",
    "\n",
    "print(df_aux['UF'].unique)\n",
    "print()\n",
    "print(df['UF'].unique)\n"
   ]
  },
  {
   "cell_type": "markdown",
   "id": "5a34749e",
   "metadata": {},
   "source": [
    "Na coluna SITUACAO_IES havia irregularidades onde em lugares tinha como 'Ativa' e em outros 'Em Atividade', então para padronizar alteramos onde tinha 'Ativa' mudamos para 'Em Atividade' e fizemos a alteração usando o title do pandas."
   ]
  },
  {
   "cell_type": "code",
   "execution_count": 103,
   "id": "8afe2ff0",
   "metadata": {},
   "outputs": [
    {
     "name": "stdout",
     "output_type": "stream",
     "text": [
      "['Ativa' 'Extinta' 'Em atividade' 'Em Atividade']\n"
     ]
    }
   ],
   "source": [
    "print(df['SITUACAO_IES'].unique())"
   ]
  },
  {
   "cell_type": "code",
   "execution_count": 104,
   "id": "d7e7ff7d",
   "metadata": {},
   "outputs": [],
   "source": [
    "df_aux['SITUACAO_IES'] = df_aux['SITUACAO_IES'].fillna(\"Não Informado\")\n",
    "df_aux['SITUACAO_IES'] = df_aux['SITUACAO_IES'].str.strip().str.title()\n",
    "df_aux['SITUACAO_IES'] = df_aux['SITUACAO_IES'].replace({'Ativa': 'Em Atividade',})\n"
   ]
  },
  {
   "cell_type": "code",
   "execution_count": 105,
   "id": "f94d9087",
   "metadata": {},
   "outputs": [
    {
     "name": "stdout",
     "output_type": "stream",
     "text": [
      "['Em Atividade' 'Extinta']\n"
     ]
    }
   ],
   "source": [
    "print(df_aux['SITUACAO_IES'].unique())  "
   ]
  },
  {
   "cell_type": "markdown",
   "id": "c5065957",
   "metadata": {},
   "source": [
    "Tratamento dos dados nulos na coluna CODIGO_MUNICIPIO_IBGE"
   ]
  },
  {
   "cell_type": "code",
   "execution_count": 106,
   "id": "7f8908a9",
   "metadata": {},
   "outputs": [
    {
     "name": "stdout",
     "output_type": "stream",
     "text": [
      "[4106902.0 3205069.0 3548708.0 3108008.0 3524402.0 3522406.0 3205309.0\n",
      " 3136702.0 1709302.0 3522703.0 3106200.0 4304606.0 3513801.0 3526803.0\n",
      " 2807402.0 2305407.0 1705508.0 4205407.0 3159605.0 4104808.0 3131307.0\n",
      " 2927408.0 3170701.0 2211001.0 3550308.0 3135100.0 3529203.0 3505500.0\n",
      " 3549805.0 2604007.0 3157005.0 5106224.0 3131703.0 3530508.0 5300108.0\n",
      " 4101002.0 2507507.0 3541406.0 3304557.0 1506807.0 3534401.0 3549904.0\n",
      " 5103403.0 1502400.0 1200401.0 3201308.0 3167202.0 3557105.0 3547502.0\n",
      " 4209102.0 3511102.0 3509502.0 3152105.0 4204608.0 1302603.0 3516200.0\n",
      " 1500800.0 3200201.0 2704302.0 4314902.0 3124302.0 2927705.0 4115200.0\n",
      " 5211909.0 4305108.0 1400100.0 3554003.0 3138401.0 3203007.0 2914604.0\n",
      " 3145059.0 4203956.0 3119302.0 2605707.0 3304524.0 3161106.0 4317509.0\n",
      " 3202405.0 3122306.0 2708402.0 1716109.0 2910800.0 3303906.0 3204906.0\n",
      " 5107875.0 4202909.0 2611606.0 2408102.0 4202404.0 3105608.0 4122404.0\n",
      " 3552809.0 3529005.0 5100359.0 3506003.0 1507300.0 3169406.0 5208707.0\n",
      " 2911709.0 2304202.0 5107040.0 2706307.0 5213103.0 1100304.0 5006606.0\n",
      " 3549706.0 2108603.0 3100104.0 5201108.0 2606200.0 2921500.0 3138708.0\n",
      " 3152402.0 2304400.0 1504422.0 5221858.0 5003702.0 5105101.0 3523107.0\n",
      " 4307005.0 3530805.0 3118007.0 1100122.0 5218805.0 3205200.0 3118403.0\n",
      " 2111508.0 3302205.0 3118601.0 3539301.0 3529401.0 3554102.0 1100049.0\n",
      " 3303302.0 3147907.0 2700300.0 2311405.0 4208203.0 5104104.0 2607901.0\n",
      " 3509205.0 1702109.0 2102325.0 2203909.0 3144375.0 2302602.0 4128203.0\n",
      " 3132701.0 2408003.0 3507506.0 3120904.0 4317806.0 2612208.0 4209003.0\n",
      " 4215802.0 2111300.0 3140001.0 1501402.0 3524808.0 3547809.0 4209300.0\n",
      " 3503307.0 2806701.0 1502756.0 2307304.0 4318705.0 3539400.0 3513405.0\n",
      " 4125506.0 3106903.0 5002407.0 2928703.0 3548500.0 3548906.0 2105302.0\n",
      " 2615607.0 3533403.0 4105508.0 3504503.0 2708006.0 1100205.0 3557006.0\n",
      " 3525706.0 2601102.0 5002704.0 2302800.0 3205002.0 2604106.0 3510609.0\n",
      " 1303403.0 3548807.0 3170206.0 3170107.0 3139003.0 3518800.0 4303509.0\n",
      " 5204300.0 3201209.0 5006200.0 2931350.0 2919207.0 3139508.0 3519709.0\n",
      " 2910727.0 2208007.0 3543907.0 4314100.0 5103205.0 3538006.0 3525904.0\n",
      " 4214805.0 4125704.0 4216602.0 2504009.0 3165552.0 2606002.0 2918407.0\n",
      " 1100064.0 4313409.0 5107925.0 4105706.0 3304151.0 1600303.0 3520442.0\n",
      " 5108402.0 5102678.0 3205101.0 2928109.0 2300705.0 3168705.0 4104303.0\n",
      " 3304706.0 3538709.0 2918001.0 1100130.0 3522208.0 2909802.0 4309209.0\n",
      " 3301009.0 4203006.0 3304904.0 3104908.0 2913606.0 5007901.0 3136207.0\n",
      " 5104559.0 2304236.0 3543402.0 4118204.0 3152501.0 3139409.0 2800308.0\n",
      " 5210406.0 3527207.0 4316907.0 5107602.0 3118304.0 4118006.0 3522109.0\n",
      " 3519600.0 3523909.0 3552205.0 3160702.0 3119401.0 3169307.0 1504208.0\n",
      " 2917508.0 3162500.0 2905701.0 4315503.0 2706703.0 4118501.0 3204104.0\n",
      " 5105259.0 3111101.0 3128709.0 1502202.0 4201406.0 2210003.0 4210100.0\n",
      " 4128104.0 2307601.0 1505536.0 3541000.0 3510807.0 3125705.0 4106407.0\n",
      " 3106705.0 3151008.0 4119905.0 3113305.0 2207702.0 3533908.0 3306305.0\n",
      " 2112902.0 3513504.0 5104807.0 2903201.0 2516300.0 3134608.0 2602902.0\n",
      " 3166204.0 2503704.0 4109401.0 3156700.0 5205109.0 2918100.0 3524303.0\n",
      " 3522307.0 3303708.0 3100203.0 3505906.0 2210508.0 2925303.0 1721000.0\n",
      " 2403251.0 3301702.0 4103453.0 3502804.0 3111507.0 3551702.0 3549102.0\n",
      " 4113700.0 3109006.0 4108304.0 3547304.0 4101606.0 3155405.0 3518701.0\n",
      " 5101258.0 3105400.0 3148004.0 2506301.0 3146008.0 2900702.0 4118402.0\n",
      " 3514403.0 2906006.0 2301109.0 4208906.0 3536703.0 2807600.0 5002951.0\n",
      " 3152204.0 3201506.0 4308607.0 2930105.0 2615300.0 4115606.0 3172004.0\n",
      " 4308904.0 2930501.0 3107406.0 3508603.0 3520301.0 3550605.0 3132404.0\n",
      " 4104907.0 2513901.0 2613909.0 5002902.0 3515509.0 3527108.0 3170404.0\n",
      " 2706406.0 3143302.0 5205497.0 3549409.0 2607208.0 3113404.0 4319307.0\n",
      " 5214606.0 3138203.0 2609600.0 4119152.0 3507605.0 2907202.0 3552403.0\n",
      " 5102637.0 3123601.0 4303103.0 3540002.0 2910701.0 2101202.0 3552502.0\n",
      " 3303203.0 3303500.0 4301602.0 1501501.0 3305802.0 3201407.0 2200202.0\n",
      " 3204559.0 3101508.0 3106606.0 3540606.0 2933307.0 4204202.0 2103000.0\n",
      " 3530706.0 3103405.0 4109609.0 5211206.0 4212106.0 3302700.0 3127701.0\n",
      " 3551009.0 5215231.0 3169604.0 3144607.0 3545803.0 2925808.0 3305208.0\n",
      " 1505031.0 2305506.0 1717503.0 3505302.0 3516309.0 4203501.0 5105150.0\n",
      " 3300456.0 4114401.0 2610707.0 1100023.0 3147303.0 2616407.0 3200904.0\n",
      " 3520509.0 2923803.0 3513009.0 5211503.0 3163706.0 2601706.0 3170800.0\n",
      " 3556206.0 2919553.0 5003207.0 4111506.0 4218707.0 3554300.0 1500602.0\n",
      " 2904605.0 2305803.0 5201405.0 5107958.0 3135209.0 4111803.0 2932903.0\n",
      " 2307650.0 5103502.0 3128006.0 3502101.0 4110706.0 4102604.0 2613701.0\n",
      " 3530300.0 4202008.0 3306008.0 4302105.0 2101400.0 3101607.0 3151503.0\n",
      " 4307906.0 2606804.0 5208004.0 3131901.0 4310207.0 4317202.0 2101251.0\n",
      " 3137601.0 2510808.0 3107307.0 3301900.0 3168606.0 3556701.0 4101408.0\n",
      " 3148103.0 2909208.0 4204301.0 3165305.0 4319000.0 3503208.0 3535507.0\n",
      " 5204508.0 2311306.0 3304805.0 4128005.0 5215702.0 5007406.0 2802908.0\n",
      " 4218202.0 5212501.0 5215603.0 5206206.0 3164704.0 3105905.0 4113304.0\n",
      " 3306107.0 1501709.0 4128500.0 2601201.0 5220108.0 4101507.0 3519055.0\n",
      " 3546405.0 4315602.0 2503209.0 5007802.0 2313401.0 4304408.0 2202307.0\n",
      " 3162906.0 1100189.0 5100250.0 3305554.0 1503309.0 3530607.0 2312908.0\n",
      " 3509007.0 3101706.0 3522604.0 3542206.0 3303401.0 1718204.0 3515004.0\n",
      " 3516408.0 2309607.0 3523404.0 5200258.0 4314407.0 1200203.0 2926301.0\n",
      " 2608107.0 4323002.0 3516705.0 1302504.0 4322400.0 1500107.0 4104501.0\n",
      " 2304954.0 3110707.0 3300209.0 1702208.0 3144300.0 1508100.0 3519071.0\n",
      " 3525300.0 4109807.0 4316808.0 2611101.0 3151800.0 3524105.0 2311603.0\n",
      " 3137809.0 3545209.0 4106605.0 5217104.0 2109106.0 5107909.0 3531407.0\n",
      " 4120002.0 3161908.0 4304630.0 3500105.0 4309605.0 5107065.0 3504107.0\n",
      " 3200409.0 2112209.0 3505708.0 3509601.0 4213500.0 3305109.0 3543303.0\n",
      " 4203808.0 3110608.0 3138500.0 3501608.0 1301209.0 2202208.0 4127700.0\n",
      " 3517406.0 3171303.0 4115804.0 2914505.0 3171808.0 2912103.0 3141108.0\n",
      " 3154002.0 3544251.0 3151206.0 3144805.0 1716505.0 3161007.0 3528502.0\n",
      " 2109908.0 4127205.0 4117602.0 3204609.0 3302403.0 1505502.0 3204708.0\n",
      " 2601607.0 2111201.0 4111605.0 3506102.0 5003801.0 4102109.0 5105606.0\n",
      " 2400208.0 2103307.0 3136652.0 1707009.0 3541505.0 5221403.0 3171204.0\n",
      " 3133303.0 1503606.0 3523206.0 2610004.0 3550100.0 4105409.0 5100201.0\n",
      " 5107107.0 3139607.0 3300704.0 3169000.0 3515186.0 3141009.0 3102803.0\n",
      " 2203503.0 2609501.0 3506359.0 3504008.0 3534708.0 3526902.0 2306405.0\n",
      " 4127106.0 2914000.0 2600104.0 4211900.0 3554508.0 2906873.0 3304300.0\n",
      " 3102209.0 2402006.0 3518404.0 3143906.0 3137007.0 3524709.0 3300605.0\n",
      " 2910057.0 3510500.0 3144003.0 4126256.0 3145604.0 3116605.0 2608909.0\n",
      " 3555109.0 5005707.0 2513703.0 1506138.0 3145208.0 3101102.0 4103701.0\n",
      " 3140803.0 3115706.0 4104204.0 4104006.0 4313508.0 3111606.0 3511508.0\n",
      " 5221601.0 3303609.0 2803500.0 3508504.0 3546603.0 3541307.0 3200102.0\n",
      " 4117909.0 2914802.0 5218003.0 3111200.0 3555000.0 3507001.0 3125101.0\n",
      " 5008305.0 3144508.0 2105427.0 5219704.0 4204004.0 4320107.0 2903904.0\n",
      " 4114609.0 2302107.0 2303709.0 3503802.0 4125605.0 4306106.0 3137304.0\n",
      " 3538808.0 4300604.0 3115300.0 3525003.0 2108207.0 3550704.0 4211306.0\n",
      " 2804805.0 4212908.0 3537602.0 2210607.0 4308508.0 3304201.0 3169901.0\n",
      " 2403103.0 3157807.0 2930709.0 4217204.0 3127107.0 2516201.0 3134202.0\n",
      " 5208608.0 1101500.0 4113502.0 1301902.0 3171006.0 5218508.0 3151305.0\n",
      " 5007109.0 2605202.0 1505437.0 3147006.0 3556453.0 2504405.0 3105103.0\n",
      " 3533502.0 3529302.0 3114303.0 2613602.0 3537305.0 2412500.0 1507953.0\n",
      " 2101608.0 2610905.0 3109303.0 5217708.0 2211209.0 3126109.0 2308351.0\n",
      " 3553708.0 2304285.0 3500709.0 2100055.0 3143104.0 4107207.0 5209952.0\n",
      " 3515707.0 4114807.0 3122355.0 5106257.0 3104205.0 1508084.0 2612505.0\n",
      " 1501808.0 5209101.0 3536505.0 3114501.0 2305233.0 2904902.0 2915601.0\n",
      " 3134400.0 1100114.0 3202306.0 4112009.0 3503901.0 4309407.0 5213806.0\n",
      " 5003306.0 4116901.0 3512308.0 3162104.0 2801207.0 4311809.0 4207502.0\n",
      " 2304103.0 5210208.0 3130309.0 4313201.0 5002209.0 3300407.0 5003256.0\n",
      " 3302007.0 3504206.0 3133808.0 4206504.0 1100155.0 1600600.0 2917300.0\n",
      " 3104007.0 3144102.0 2107506.0 1100288.0 3556503.0 3146107.0 3534609.0\n",
      " 5202155.0 3150802.0 4101804.0 4311403.0 3133105.0 3149309.0 3123205.0\n",
      " 2103208.0 5101803.0 4307807.0 3304144.0 4110607.0 3520905.0 3542602.0\n",
      " 2906501.0 3112307.0 4119608.0 3501905.0 5001102.0 2507002.0 4208450.0\n",
      " 1501303.0 3170479.0 3527801.0 3154606.0 4310801.0 3302908.0 1304203.0\n",
      " 3154150.0 1709500.0 3139904.0 2931905.0 4320909.0 3154101.0 5219753.0\n",
      " 4104600.0 3522505.0 2601904.0 4310108.0 2924009.0 2603009.0 3544004.0\n",
      " 3103504.0 4211702.0 3147105.0 4204251.0 2312403.0 3544301.0 3164209.0\n",
      " 2930600.0 4208401.0 1702554.0 3156809.0 4321204.0 2409407.0 4210035.0\n",
      " 4120903.0 1508407.0 2901007.0 3202504.0 5212204.0 3506508.0 2908408.0\n",
      " 2205201.0 3160405.0 4108601.0 3510401.0 4108403.0 2614501.0 4113205.0\n",
      " 5006309.0 3203205.0 3527405.0 4102406.0 2105708.0 4124103.0 3500303.0\n",
      " 3107109.0 3149903.0 4112108.0 5102504.0 3306206.0 4219705.0 4109708.0\n",
      " 4121406.0 5220454.0 4105805.0 5200555.0 2913903.0 3510203.0 2303501.0\n",
      " 5217401.0 2310308.0 4114203.0 3138807.0 5000609.0 5005681.0 2208403.0\n",
      " 3531308.0 4321808.0 2701209.0 2312205.0 2308302.0 3552106.0 4102000.0\n",
      " 3518206.0 3526001.0 2926608.0 3530102.0 2107803.0 5201306.0 2103604.0\n",
      " 3201704.0 2307700.0 2914703.0 3200607.0 4215000.0 4208302.0 3121605.0\n",
      " 3153905.0 3534302.0 4320008.0 3542909.0 5210000.0 3117306.0 3122009.0\n",
      " 3137700.0 3537404.0 2926004.0 3106309.0 3203908.0 3526704.0 2202901.0\n",
      " 3140902.0 3136306.0 4313391.0 4321451.0 3553005.0 '000000000']\n"
     ]
    }
   ],
   "source": [
    "df_aux['CODIGO_MUNICIPIO_IBGE'] = df_aux['CODIGO_MUNICIPIO_IBGE'].fillna(\"000000000\")\n",
    "\n",
    "print(df_aux['CODIGO_MUNICIPIO_IBGE'].unique())\n"
   ]
  }
 ],
 "metadata": {
  "kernelspec": {
   "display_name": "Python 3",
   "language": "python",
   "name": "python3"
  },
  "language_info": {
   "codemirror_mode": {
    "name": "ipython",
    "version": 3
   },
   "file_extension": ".py",
   "mimetype": "text/x-python",
   "name": "python",
   "nbconvert_exporter": "python",
   "pygments_lexer": "ipython3",
   "version": "3.13.4"
  }
 },
 "nbformat": 4,
 "nbformat_minor": 5
}
