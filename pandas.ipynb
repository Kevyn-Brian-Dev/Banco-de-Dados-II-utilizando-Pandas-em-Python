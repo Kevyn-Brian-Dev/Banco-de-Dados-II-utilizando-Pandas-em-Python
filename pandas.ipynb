{
 "cells": [
  {
   "cell_type": "code",
   "execution_count": null,
   "id": "a2aafa1e",
   "metadata": {},
   "outputs": [],
   "source": [
    "import pandas as pd\n",
    "\n",
    "df = pd.read_csv(r\"C:\\\\Users\\\\kevyn\\\\OneDrive\\\\Área de Trabalho\\\\Pandas\\\\PDA_Lista_Instituicoes_Ensino_Superior_do_Brasil_EMEC (1).csv\")\n",
    "\n",
    "print(df.head)\n"
   ]
  },
  {
   "cell_type": "code",
   "execution_count": null,
   "id": "030dcd44",
   "metadata": {},
   "outputs": [],
   "source": [
    "import pandas as pd\n",
    "\n",
    "df = pd.read_csv(r\"C:\\\\Users\\\\Renan\\\\Desktop\\\\Banco-de-Dados-II-utilizando-Pandas-em-Python\\\\base_dados\\\\PDA_Lista_Instituicoes_Ensino_Superior_do_Brasil_EMEC (1).csv\")\n",
    "\n",
    "print(df.head)\n",
    "\n"
   ]
  },
  {
   "cell_type": "markdown",
   "id": "3dd2ec21",
   "metadata": {},
   "source": [
    "Geramos uma cópia do arquivo csv, para trabalharmos com esse dataframe auxiliar, sem alterar o original."
   ]
  },
  {
   "cell_type": "code",
   "execution_count": 86,
   "id": "fbca7c5d",
   "metadata": {},
   "outputs": [],
   "source": [
    "df_aux = df.copy()"
   ]
  },
  {
   "cell_type": "code",
   "execution_count": 125,
   "id": "25f0673b",
   "metadata": {},
   "outputs": [],
   "source": [
    "df_aux.to_csv(\"df_auxiliar.csv\", index=False, encoding='utf-8')"
   ]
  },
  {
   "cell_type": "markdown",
   "id": "09e5e157",
   "metadata": {},
   "source": [
    "Teste para verificar se a cópia foi bem sucedida."
   ]
  },
  {
   "cell_type": "code",
   "execution_count": 123,
   "id": "02d9156b",
   "metadata": {},
   "outputs": [
    {
     "name": "stdout",
     "output_type": "stream",
     "text": [
      " Dataframe inicial \n",
      "<bound method NDFrame.head of       CODIGO_DA_IES                                        NOME_DA_IES  \\\n",
      "0             21995             Faculdade de Tecnologia Senac Curitiba   \n",
      "1              1768                         FACULDADE REGIONAL SERRANA   \n",
      "2             23261       Faculdade São Judas de São Bernardo do Campo   \n",
      "3             14123  Faculdade Presidente Antônio Carlos de Bom Suc...   \n",
      "4             17952                 Faculdade de Tecnologia de Jacareí   \n",
      "...             ...                                                ...   \n",
      "4520          15792                              Faculdade de Rondônia   \n",
      "4521           1888                         FACULDADE DE SAÚDE TECSOMA   \n",
      "4522            925        FACULDADE DE CIÊNCIAS GERÊNCIAIS DE VILHENA   \n",
      "4523          22739                        Instituto SOCIESC de Itajaí   \n",
      "4524           5290  FACULDADE ANHANGUERA DE CIÊNCIAS E TECNOLOGIA ...   \n",
      "\n",
      "                   SIGLA CATEGORIA_DA_IES COMUNITARIA CONFESSIONAL  \\\n",
      "0                    NaN          Privada           N            N   \n",
      "1                 FUNPAC          Privada           N            N   \n",
      "2                    NaN          Privada           N            N   \n",
      "3     FUNEES Bom Sucesso          Privada           N            N   \n",
      "4          FATEC Jacareí          Pública           N            N   \n",
      "...                  ...              ...         ...          ...   \n",
      "4520                FARO          Privada           N            N   \n",
      "4521              FASTEC          Privada           N            N   \n",
      "4522                FCGV          Privada           N            N   \n",
      "4523             SOCIESC          Privada           N            N   \n",
      "4524                 NaN          Privada           N            N   \n",
      "\n",
      "     FILANTROPICA ORGANIZACAO_ACADEMICA  CODIGO_MUNICIPIO_IBGE  \\\n",
      "0               N             Faculdade              4106902.0   \n",
      "1               N             Faculdade              3205069.0   \n",
      "2               N             Faculdade              3548708.0   \n",
      "3               N             Faculdade              3108008.0   \n",
      "4               N             Faculdade              3524402.0   \n",
      "...           ...                   ...                    ...   \n",
      "4520            N             Faculdade                    NaN   \n",
      "4521            N             Faculdade                    NaN   \n",
      "4522            N             Faculdade                    NaN   \n",
      "4523            N             Faculdade                    NaN   \n",
      "4524            N             Faculdade                    NaN   \n",
      "\n",
      "                    MUNICIPIO   UF SITUACAO_IES  \n",
      "0                    Curitiba   PR        Ativa  \n",
      "1     Venda Nova do Imigrante   ES      Extinta  \n",
      "2       São Bernardo do Campo   SP        Ativa  \n",
      "3                 Bom Sucesso   MG      Extinta  \n",
      "4                     Jacareí   SP        Ativa  \n",
      "...                       ...  ...          ...  \n",
      "4520                      NaN  NaN      Extinta  \n",
      "4521                      NaN  NaN      Extinta  \n",
      "4522                      NaN  NaN      Extinta  \n",
      "4523                      NaN  NaN      Extinta  \n",
      "4524                      NaN  NaN      Extinta  \n",
      "\n",
      "[4525 rows x 12 columns]>\n"
     ]
    }
   ],
   "source": [
    "print(\" Dataframe inicial \")\n",
    "print(df.head)\n",
    "\n"
   ]
  },
  {
   "cell_type": "code",
   "execution_count": 124,
   "id": "75164f8c",
   "metadata": {},
   "outputs": [
    {
     "name": "stdout",
     "output_type": "stream",
     "text": [
      " Dataframe Auxiliar \n",
      "<bound method NDFrame.head of       CODIGO_DA_IES                                        NOME_DA_IES  \\\n",
      "0             21995             Faculdade De Tecnologia Senac Curitiba   \n",
      "1              1768                         Faculdade Regional Serrana   \n",
      "2             23261       Faculdade São Judas De São Bernardo Do Campo   \n",
      "3             14123  Faculdade Presidente Antônio Carlos De Bom Suc...   \n",
      "4             17952                 Faculdade De Tecnologia De Jacareí   \n",
      "...             ...                                                ...   \n",
      "4520          15792                              Faculdade De Rondônia   \n",
      "4521           1888                         Faculdade De Saúde Tecsoma   \n",
      "4522            925        Faculdade De Ciências Gerênciais De Vilhena   \n",
      "4523          22739                        Instituto Sociesc De Itajaí   \n",
      "4524           5290  Faculdade Anhanguera De Ciências E Tecnologia ...   \n",
      "\n",
      "                   SIGLA CATEGORIA_DA_IES COMUNITARIA CONFESSIONAL  \\\n",
      "0          Não informado          Privada         Não          Não   \n",
      "1                 FUNPAC          Privada         Não          Não   \n",
      "2          Não informado          Privada         Não          Não   \n",
      "3     FUNEES Bom Sucesso          Privada         Não          Não   \n",
      "4          FATEC Jacareí          Pública         Não          Não   \n",
      "...                  ...              ...         ...          ...   \n",
      "4520                FARO          Privada         Não          Não   \n",
      "4521              FASTEC          Privada         Não          Não   \n",
      "4522                FCGV          Privada         Não          Não   \n",
      "4523             SOCIESC          Privada         Não          Não   \n",
      "4524       Não informado          Privada         Não          Não   \n",
      "\n",
      "     FILANTROPICA ORGANIZACAO_ACADEMICA CODIGO_MUNICIPIO_IBGE  \\\n",
      "0             Não             Faculdade             4106902.0   \n",
      "1             Não             Faculdade             3205069.0   \n",
      "2             Não             Faculdade             3548708.0   \n",
      "3             Não             Faculdade             3108008.0   \n",
      "4             Não             Faculdade             3524402.0   \n",
      "...           ...                   ...                   ...   \n",
      "4520          Não             Faculdade         Não informado   \n",
      "4521          Não             Faculdade         Não informado   \n",
      "4522          Não             Faculdade         Não informado   \n",
      "4523          Não             Faculdade         Não informado   \n",
      "4524          Não             Faculdade         Não informado   \n",
      "\n",
      "                    MUNICIPIO             UF  SITUACAO_IES  \n",
      "0                    Curitiba             PR  Em Atividade  \n",
      "1     Venda Nova Do Imigrante             ES       Extinta  \n",
      "2       São Bernardo Do Campo             SP  Em Atividade  \n",
      "3                 Bom Sucesso             MG       Extinta  \n",
      "4                     Jacareí             SP  Em Atividade  \n",
      "...                       ...            ...           ...  \n",
      "4520            Não Informado  NÃO INFORMADO       Extinta  \n",
      "4521            Não Informado  NÃO INFORMADO       Extinta  \n",
      "4522            Não Informado  NÃO INFORMADO       Extinta  \n",
      "4523            Não Informado  NÃO INFORMADO       Extinta  \n",
      "4524            Não Informado  NÃO INFORMADO       Extinta  \n",
      "\n",
      "[4525 rows x 12 columns]>\n"
     ]
    }
   ],
   "source": [
    "print(\" Dataframe Auxiliar \")\n",
    "print(df_aux.head)"
   ]
  },
  {
   "cell_type": "markdown",
   "id": "781abf1e",
   "metadata": {},
   "source": [
    "Havia inconsistências nos nomes das instituições, pois Algumas estavavam Em UpperCase e outras em LowerCase, com isso a função title do pandas, modifica todas as linhas da coluna colocando a primeira letra de cada palavra em Maiúsculo e o restante da palavra em Minúsculo."
   ]
  },
  {
   "cell_type": "code",
   "execution_count": null,
   "id": "46366d35",
   "metadata": {},
   "outputs": [],
   "source": [
    "df_aux['NOME_DA_IES']= df_aux['NOME_DA_IES'].str.title()\n",
    "\n",
    "print(df_aux.head)"
   ]
  },
  {
   "cell_type": "markdown",
   "id": "41379652",
   "metadata": {},
   "source": [
    "Logo após a normalização dos nome das instituições, verificamos se existem linhas nulas na coluna NOME_DA_IES, através da função isnull() e com outra função complementar sum() que faz a soma de todos os termos nulos da coluna."
   ]
  },
  {
   "cell_type": "code",
   "execution_count": 114,
   "id": "3d3fe7bf",
   "metadata": {},
   "outputs": [
    {
     "name": "stdout",
     "output_type": "stream",
     "text": [
      "0\n"
     ]
    }
   ],
   "source": [
    "linhas_nulas= df_aux['NOME_DA_IES'].isnull().sum()\n",
    "\n",
    "print(linhas_nulas)"
   ]
  },
  {
   "cell_type": "code",
   "execution_count": 113,
   "id": "8538847b",
   "metadata": {},
   "outputs": [
    {
     "name": "stdout",
     "output_type": "stream",
     "text": [
      "0\n"
     ]
    }
   ],
   "source": [
    "siglas_nulas= df_aux['SIGLA'].isnull().sum()\n",
    "\n",
    "print(siglas_nulas)"
   ]
  },
  {
   "cell_type": "markdown",
   "id": "cb760eee",
   "metadata": {},
   "source": [
    "Na coluna SIGLA haviam campos vazios declarados como nulos ou NaN( Not a Number) -->( Não é um Número) é usado para algo indefinido, com isso através da função fillna adicionamos a esses valores o campo \" Não informado\"."
   ]
  },
  {
   "cell_type": "code",
   "execution_count": 111,
   "id": "ab737daa",
   "metadata": {},
   "outputs": [
    {
     "name": "stdout",
     "output_type": "stream",
     "text": [
      "                                         NOME_DA_IES               SIGLA\n",
      "0             Faculdade De Tecnologia Senac Curitiba       Não informado\n",
      "1                         Faculdade Regional Serrana              FUNPAC\n",
      "2       Faculdade São Judas De São Bernardo Do Campo       Não informado\n",
      "3  Faculdade Presidente Antônio Carlos De Bom Suc...  FUNEES Bom Sucesso\n",
      "4                 Faculdade De Tecnologia De Jacareí       FATEC Jacareí\n"
     ]
    }
   ],
   "source": [
    "df_aux['SIGLA']= df_aux['SIGLA'].fillna(\"Não informado\")\n",
    "\n",
    "print(df_aux[['NOME_DA_IES','SIGLA']].head(5))"
   ]
  },
  {
   "cell_type": "code",
   "execution_count": 97,
   "id": "019d4b01",
   "metadata": {},
   "outputs": [
    {
     "name": "stdout",
     "output_type": "stream",
     "text": [
      "                                         NOME_DA_IES CATEGORIA_DA_IES\n",
      "0             Faculdade De Tecnologia Senac Curitiba          Privada\n",
      "1                         Faculdade Regional Serrana          Privada\n",
      "2       Faculdade São Judas De São Bernardo Do Campo          Privada\n",
      "3  Faculdade Presidente Antônio Carlos De Bom Suc...          Privada\n",
      "4                 Faculdade De Tecnologia De Jacareí          Pública\n"
     ]
    }
   ],
   "source": [
    "\n",
    "df_aux['CATEGORIA_DA_IES']= df_aux['CATEGORIA_DA_IES'].str.replace('PÃºblica','Publica')\n",
    "\n",
    "print(df_aux[['NOME_DA_IES','CATEGORIA_DA_IES']].head(5))"
   ]
  },
  {
   "cell_type": "code",
   "execution_count": 99,
   "id": "ad2c3b75",
   "metadata": {},
   "outputs": [
    {
     "name": "stdout",
     "output_type": "stream",
     "text": [
      "0\n"
     ]
    }
   ],
   "source": [
    "categ_nulas= df_aux['NOME_DA_IES'].isnull().sum()\n",
    "\n",
    "print(categ_nulas)"
   ]
  },
  {
   "cell_type": "code",
   "execution_count": 100,
   "id": "687fa33d",
   "metadata": {},
   "outputs": [
    {
     "name": "stdout",
     "output_type": "stream",
     "text": [
      "                                         NOME_DA_IES COMUNITARIA\n",
      "0             Faculdade De Tecnologia Senac Curitiba         Não\n",
      "1                         Faculdade Regional Serrana         Não\n",
      "2       Faculdade São Judas De São Bernardo Do Campo         Não\n",
      "3  Faculdade Presidente Antônio Carlos De Bom Suc...         Não\n",
      "4                 Faculdade De Tecnologia De Jacareí         Não\n"
     ]
    }
   ],
   "source": [
    "\n",
    "dic ={'S': 'Sim', 'N' :'Não'}\n",
    "\n",
    "df_aux['COMUNITARIA']= df_aux['COMUNITARIA'].replace(dic)\n",
    "\n",
    "print(df_aux[['NOME_DA_IES','COMUNITARIA']].head(5))"
   ]
  },
  {
   "cell_type": "code",
   "execution_count": 101,
   "id": "09031959",
   "metadata": {},
   "outputs": [
    {
     "name": "stdout",
     "output_type": "stream",
     "text": [
      "                                         NOME_DA_IES CONFESSIONAL\n",
      "0             Faculdade De Tecnologia Senac Curitiba          Não\n",
      "1                         Faculdade Regional Serrana          Não\n",
      "2       Faculdade São Judas De São Bernardo Do Campo          Não\n",
      "3  Faculdade Presidente Antônio Carlos De Bom Suc...          Não\n",
      "4                 Faculdade De Tecnologia De Jacareí          Não\n"
     ]
    }
   ],
   "source": [
    "dic ={'S': 'Sim', 'N' :'Não'}\n",
    "\n",
    "df_aux['CONFESSIONAL']= df_aux['CONFESSIONAL'].replace(dic)\n",
    "\n",
    "print(df_aux[['NOME_DA_IES','CONFESSIONAL']].head(5))"
   ]
  },
  {
   "cell_type": "code",
   "execution_count": 102,
   "id": "e1b14693",
   "metadata": {},
   "outputs": [
    {
     "name": "stdout",
     "output_type": "stream",
     "text": [
      "                                         NOME_DA_IES FILANTROPICA\n",
      "0             Faculdade De Tecnologia Senac Curitiba          Não\n",
      "1                         Faculdade Regional Serrana          Não\n",
      "2       Faculdade São Judas De São Bernardo Do Campo          Não\n",
      "3  Faculdade Presidente Antônio Carlos De Bom Suc...          Não\n",
      "4                 Faculdade De Tecnologia De Jacareí          Não\n"
     ]
    }
   ],
   "source": [
    "dic ={'S': 'Sim', 'N' :'Não'}\n",
    "\n",
    "df_aux['FILANTROPICA']= df_aux['FILANTROPICA'].replace(dic)\n",
    "\n",
    "print(df_aux[['NOME_DA_IES','FILANTROPICA']].head(5))"
   ]
  },
  {
   "cell_type": "markdown",
   "id": "12e35f60",
   "metadata": {},
   "source": [
    "Na coluna MUNICIPIO havia muitas cidades com letras misturadas com UpperCase e LowerCase, então para padronizar , fizemos a alteração usando o title do pandas para deixar apenas as primereiras letras em Maiúsculo "
   ]
  },
  {
   "cell_type": "code",
   "execution_count": 103,
   "id": "86e5326f",
   "metadata": {},
   "outputs": [
    {
     "name": "stdout",
     "output_type": "stream",
     "text": [
      "['Curitiba' 'Venda Nova do Imigrante' 'São Bernardo do Campo'\n",
      " 'Bom Sucesso' 'Jacareí' 'Itapeva' 'Vitória' 'Juiz de Fora' 'Guaraí'\n",
      " 'Itápolis' 'Belo Horizonte' 'Canoas' 'Diadema' 'Lençóis Paulista'\n",
      " 'Tobias Barreto' 'Icó' 'Colinas do Tocantins' 'Florianópolis'\n",
      " 'Santa Rita do Sapucaí' 'Cascavel' 'Ipatinga' 'Salvador' 'Varginha'\n",
      " 'Teresina' 'São Paulo' 'Janaúba' 'Martinópolis' 'Barretos'\n",
      " 'São José do Rio Preto' 'Carpina' 'Salinas' 'Nova Mutum' 'Itabira'\n",
      " 'Mococa' 'Brasília' 'Ampére' 'João Pessoa' 'Presidente Prudente'\n",
      " 'Rio de Janeiro' 'Santarém' 'Osasco' 'São José dos Campos' 'Cuiabá'\n",
      " 'Castanhal' 'Rio Branco' 'Cariacica' 'Sete Lagoas' 'Votuporanga'\n",
      " 'Santa Rita do Passa Quatro' 'Joinville' 'Catanduva' 'Campinas'\n",
      " 'Ponte Nova' 'Criciúma' 'Manaus' 'Franca' 'Ananindeua' 'Alegre' 'Maceió'\n",
      " 'Porto Alegre' 'Espinosa' 'Santa Cruz Cabrália' 'Maringá' 'Jataí'\n",
      " 'Caxias do Sul' 'Boa Vista' 'Tatuí' 'Leopoldina' 'Iúna' 'Irecê'\n",
      " 'Nova Porteirinha' 'Capivari de Baixo' 'Coromandel' 'Floresta'\n",
      " 'Rio das Ostras' 'São Francisco' 'Santo Ângelo' 'Guarapari' 'Divinópolis'\n",
      " 'São José da Tapera' 'Paraíso do Tocantins' 'Feira de Santana'\n",
      " 'Petrópolis' 'São Mateus' 'Sapezal' 'Brusque' 'Recife' 'Natal' 'Blumenau'\n",
      " 'Barbacena' 'Rolândia' 'Taboão da Serra' 'Marília' 'Alto Boa Vista'\n",
      " 'Bauru' 'São Félix do Xingu' 'Três Pontas' 'Goiânia' 'Guanambi' 'Crato'\n",
      " 'Primavera do Leste' 'Palmeira dos Índios' 'Mineiros' 'Vilhena'\n",
      " 'Ponta Porã' 'São José do Rio Pardo' 'Pinheiro' 'Abadia dos Dourados'\n",
      " 'Anápolis' 'Goiana' 'Monte Santo' 'Luminárias' 'Poté' 'Fortaleza'\n",
      " 'Marituba' 'Valparaíso de Goiás' 'Dourados' 'Juara' 'Itaquaquecetuba'\n",
      " 'Erechim' 'Moji Mirim' 'Congonhas' 'Ji-Paraná' 'Rio Verde' 'Vila Velha'\n",
      " 'Conselheiro Pena' 'São Mateus do Maranhão' 'Itaperuna' 'Contagem'\n",
      " 'Pirassununga' 'Mauá' 'Taubaté' 'Cacoal' 'Niterói' 'Passos' 'Arapiraca'\n",
      " 'Quixeramobim' 'Itajaí' 'Guarantã do Norte' 'Jaboatão dos Guararapes'\n",
      " 'Cajamar' 'Araguaína' 'Buriticupu' 'Floriano' 'Natalândia' 'Camocim'\n",
      " 'União da Vitória' 'Itambacuri' 'Mossoró' 'Botucatu' 'Curvelo'\n",
      " 'Santo Augusto' 'Salgueiro' 'Joaçaba' 'São Bento do Sul' 'São Luís'\n",
      " 'Mariana' 'Belém' 'Jales' 'Santo André' 'Lages' 'Araras' 'São Cristóvão'\n",
      " 'Concórdia do Pará' 'Juazeiro do Norte' 'São Leopoldo' 'Piratininga'\n",
      " 'Cruzeiro' 'São José dos Pinhais' 'Bicas' 'Caarapó'\n",
      " 'Santo Antônio de Jesus' 'Santos' 'São Carlos' 'Imperatriz' 'Trindade'\n",
      " 'Nova Odessa' 'Cianorte' 'Avaré' 'Santana do Ipanema' 'Porto Velho'\n",
      " 'Votorantim' 'José Bonifácio' 'Araripina' 'Campo Grande' 'Canindé'\n",
      " 'Serra' 'Caruaru' 'Carapicuíba' 'Parintins' 'São Caetano do Sul'\n",
      " 'Uberlândia' 'Uberaba' 'Machado' 'Guarulhos' 'Camaquã' 'Caçu'\n",
      " 'Cachoeiro de Itapemirim' 'Nova Andradina' 'Teixeira de Freitas'\n",
      " 'Lauro de Freitas' 'Manhumirim' 'Ibiúna' 'Eunápolis' 'Picos' 'Rio Claro'\n",
      " 'Passo Fundo' 'Colíder' 'Pindamonhangaba' 'Jundiaí' 'Rio do Sul'\n",
      " 'São Miguel do Iguaçu' 'São José' 'Campina Grande' 'Setubinha'\n",
      " 'Garanhuns' 'Juazeiro' 'Colorado do Oeste' 'Novo Hamburgo' 'Sorriso'\n",
      " 'Clevelândia' 'Quissamã' 'Macapá' 'Ilha Solteira' 'Várzea Grande'\n",
      " 'Campo Verde' 'Viana' 'Santa Maria da Vitória' 'Alto Santo' 'Timóteo'\n",
      " 'Campo Mourão' 'Santo Antônio de Pádua' 'Piracicaba' 'Jequié'\n",
      " 'Machadinho D´Oeste' 'Itapecerica da Serra' 'Cruz das Almas' 'Gravataí'\n",
      " 'Campos dos Goytacazes' 'Caçador' 'São Gonçalo' 'Baependi' 'Ilhéus'\n",
      " 'Sidrolândia' 'João Monlevade' 'Itaúba' 'Croatá' 'Ribeirão Preto'\n",
      " 'Paranaguá' 'Pouso Alegre' 'Manhuaçu' 'Aracaju' 'Itaberaí' 'Lorena'\n",
      " 'Santa Maria' 'Rondonópolis' 'Conselheiro Lafaiete' 'Paraíso do Norte'\n",
      " 'Itanhaém' 'Ibitinga' 'Itu' 'Sorocaba' 'Santos Dumont'\n",
      " 'Coronel Fabriciano' 'Três Corações' 'Marabá' 'Jacobina'\n",
      " 'São João del Rei' 'Camaçari' 'Restinga Seca' 'Penedo' 'Pato Branco'\n",
      " 'Pinheiros' 'Lucas do Rio Verde' 'Campina Verde' 'Guaxupé' 'Capanema'\n",
      " 'Araranguá' 'São João do Piauí' 'Mafra' 'Umuarama' 'Limoeiro do Norte'\n",
      " 'Parauapebas' 'Praia Grande' 'Casa Branca' 'Felixlândia'\n",
      " 'Cornélio Procópio' 'Betim' 'Piranguinho' 'Ponta Grossa' 'Carangola'\n",
      " 'Parnaíba' 'Olímpia' 'Volta Redonda' 'Vitória do Mearim' 'Cubatão'\n",
      " 'Jaciara' 'Barreiras' 'Sumé' 'Jaboticatubas' 'Cabo de Santo Agostinho'\n",
      " 'Senhora dos Remédios' 'Cajazeiras' 'Guarapuava' 'Sabará' 'Catalão'\n",
      " 'Jeremoabo' 'Jaboticabal' 'Itapetininga' 'Paraíba do Sul' 'Abaeté'\n",
      " 'Batatais' 'São Pedro do Piauí' 'Porto Seguro' 'Palmas' 'Parnamirim'\n",
      " 'Duque de Caxias' 'Cafelândia' 'Araçatuba' 'Campos Altos' 'Sertãozinho'\n",
      " 'São João da Boa Vista' 'Londrina' 'Brumadinho' 'Foz do Iguaçu'\n",
      " 'Santana de Parnaíba' 'Arapoti' 'Rio Novo' 'Guarujá' 'Araputanga'\n",
      " 'Barão de Cocais' 'Patos de Minas' 'Guarabira' 'Ouro Fino' 'Alagoinhas'\n",
      " 'Paranavaí' 'Dracena' 'Campo Formoso' 'Aracati' 'Jaraguá do Sul'\n",
      " 'Pederneiras' 'Umbaúba' 'Chapadão do Sul' 'Porteirinha' 'Colatina'\n",
      " 'Garibaldi' 'Senhor do Bonfim' 'Timbaúba' 'Matelândia'\n",
      " 'Visconde do Rio Branco' 'Getúlio Vargas' 'Serrinha' 'Bom Despacho'\n",
      " 'Cachoeira Paulista' 'Iguape' 'São Roque' 'Itajubá' 'Castro' 'São Bento'\n",
      " 'Serra Talhada' 'Cassilândia' 'Fernandópolis' 'Lins' 'Unaí'\n",
      " 'Pão de Açúcar' 'Montes Claros' 'Cidade Ocidental' 'São Joaquim da Barra'\n",
      " 'Ipojuca' 'Caratinga' 'São Paulo das Missões' 'Niquelândia' 'Lavras'\n",
      " 'Olinda' 'Pinhais' 'Bragança Paulista' 'Casa Nova' 'Sumaré'\n",
      " 'Campo Novo do Parecis' 'Elói Mendes' 'Cachoeirinha' 'Pompéia'\n",
      " 'Euclides da Cunha' 'Bacabal' 'Suzano' 'Nilópolis' 'Nova Iguaçu' 'Bagé'\n",
      " 'Benevides' 'Teresópolis' 'Castelo' 'Água Branca' 'Santa Maria de Jetibá'\n",
      " 'Além Paraíba' 'Bertópolis' 'Porto Feliz' 'Vitória da Conquista'\n",
      " 'Chapecó' 'Caxias' 'Mogi Guaçu' 'Araçuaí' 'Guaratuba' 'Itapuranga'\n",
      " 'Palmitos' 'Maricá' 'Governador Valadares' 'São Vicente' 'Novo Gama'\n",
      " 'Tupaciguara' 'Nepomuceno' 'Santa Bárbara d´Oeste' 'Queimadas'\n",
      " 'São Pedro da Aldeia' 'Novo Progresso' 'Iguatu' 'Pium' 'Barra Bonita'\n",
      " 'Francisco Morato' 'Campo Erê' 'Juína' 'Belford Roxo' 'Mangueirinha'\n",
      " 'Paulista' 'Ariquemes' 'Paraisópolis' 'Vitória de Santo Antão'\n",
      " 'Barra de São Francisco' 'Indaiatuba' 'Paripiranga' 'Cotia' 'Itumbiara'\n",
      " 'São Lourenço' 'Belo Jardim' 'Várzea da Palma' 'Valinhos'\n",
      " 'Luís Eduardo Magalhães' 'Corumbá' 'Ivaiporã' 'Tubarão' 'Teodoro Sampaio'\n",
      " 'Altamira' 'Brumado' 'Ipu' 'Aparecida de Goiânia' 'Tangará da Serra'\n",
      " 'Januária' 'Jacarezinho' 'Valença' 'Maracanaú' 'Diamantino' 'Guanhães'\n",
      " 'Andradina' 'Irati' 'Barracão' 'São Lourenço da Mata' 'Mirassol'\n",
      " 'Balneário Camboriú' 'Três Rios' 'Bento Gonçalves' 'Balsas' 'Alfenas'\n",
      " 'Piumhi' 'Farroupilha' 'Igarassu' 'Formosa' 'Itabirito' 'Ijuí'\n",
      " 'Santa Rosa' 'Bacabeira' 'Lagoa Santa' 'Patos' 'Bocaiúva' 'Itaboraí'\n",
      " 'Teófilo Otoni' 'Vinhedo' 'Apucarana' 'Patrocínio' 'Coronel João Sá'\n",
      " 'Concórdia' 'São Vicente de Minas' 'São Marcos' 'Araraquara'\n",
      " 'Paraguaçu Paulista' 'Caldas Novas' 'Quixadá' 'São Fidélis' 'Ubiratã'\n",
      " 'Palmeiras de Goiás' 'Rio Verde de Mato Grosso' 'Itabaiana' 'Timbó'\n",
      " 'Luziânia' 'Padre Bernardo' 'Cristalina' 'São Sebastião do Paraíso'\n",
      " 'Barroso' 'Laranjeiras do Sul' 'Bragança' 'Wenceslau Braz' 'Arcoverde'\n",
      " 'São Luís de Montes Belos' 'Arapongas' 'Holambra'\n",
      " 'Santa Cruz do Rio Pardo' 'Rio Grande' 'Cabedelo' 'Selvíria' 'Tianguá'\n",
      " 'Canela' 'Canto do Buriti' 'São João Nepomuceno' 'Pimenta Bueno'\n",
      " 'Alta Floresta' 'Seropédica' 'Igarapé-Miri' 'Mogi das Cruzes' 'Sobral'\n",
      " 'Caieiras' 'Almenara' 'Itapira' 'Rancharia' 'Nova Friburgo'\n",
      " 'Porto Nacional' 'Embu' 'Franco da Rocha' 'Pacajus' 'Itatiba'\n",
      " 'Águas Lindas de Goiás' 'Pelotas' 'Cruzeiro do Sul' 'Riachão do Jacuípe'\n",
      " 'João Alfredo' 'Viamão' 'Garça' 'Manacapuru' 'Uruguaiana' 'Abaetetuba'\n",
      " 'Guaiúba' 'Cambuquira' 'Araruama' 'Araguatins' 'Nanuque' 'Tucuruí'\n",
      " 'Hortolândia' 'Jaú' 'Ibiporã' 'Santa Cruz do Sul' 'Petrolina'\n",
      " 'Poços de Caldas' 'Ituverava' 'Redenção' 'Lambari' 'Salto'\n",
      " 'Cruzeiro do Oeste' 'Piracanjuba' 'Presidente Dutra' 'Sinop'\n",
      " 'Monte Aprazível' 'Porecatu' 'São Gonçalo do Rio Abaixo' 'Capão da Canoa'\n",
      " 'Adamantina' 'Horizontina' 'Querência' 'Atibaia' 'Anchieta' 'Timon'\n",
      " 'Barueri' 'Campo Limpo Paulista' 'Porto Belo' 'São João de Meriti'\n",
      " 'Ribeirão Pires' 'Canoinhas' 'Cambuí' 'Liberdade' 'Americana' 'Coari'\n",
      " 'Campo Maior' 'Toledo' 'Guaíra' 'Viçosa' 'Medianeira' 'Irará'\n",
      " 'Virginópolis' 'Ibicaraí' 'Matozinhos' 'Raul Soares' 'Rosana' 'Pirapora'\n",
      " 'Nova Lima' 'Pedro Afonso' 'São Domingos do Prata' 'Mairiporã'\n",
      " 'Santa Inês' 'Terra Boa' 'Santa Teresa' 'Macaé' 'Paragominas'\n",
      " 'São Gabriel da Palha' 'Belém de São Francisco' 'São José de Ribamar'\n",
      " 'Ivatuba' 'Bebedouro' 'Fátima do Sul' 'Astorga' 'Matupá' 'Açu' 'Codó'\n",
      " 'Juatuba' 'Dianópolis' 'Presidente Venceslau' 'Vespasiano' 'Itaobim'\n",
      " 'Itaituba' 'Itararé' 'Palmares' 'São Manuel' 'Chopinzinho' 'Água Boa'\n",
      " 'São José dos Quatro Marcos' 'Mantena' 'Cabo Frio' 'Tocantins'\n",
      " 'Espírito Santo do Pinhal' 'Mato Verde' 'Andrelândia' 'Elesbão Veloso'\n",
      " 'Nazaré da Mata' 'Bertioga' 'Assis' 'Ourinhos' 'Limeira' 'Itapipoca'\n",
      " 'Telêmaco Borba' 'Ipirá' 'Afogados da Ingazeira' 'Palhoça' 'Tietê'\n",
      " 'Capim Grosso' 'Rio Bonito' 'Alvarenga' 'Caicó' 'Guaratinguetá' 'Muriaé'\n",
      " 'Ladainha' 'Jaguariúna' 'Bom Jesus do Itabapoana' 'Dias d´Ávila'\n",
      " 'Caraguatatuba' 'Mutum' 'Sarandi' 'Oliveira' 'Cláudio' 'Limoeiro'\n",
      " 'Tupi Paulista' 'Naviraí' 'Santa Rita' 'Nova Serrana' 'Aimorés' 'Cambé'\n",
      " 'Matias Barbosa' 'Central de Minas' 'Campo Largo' 'Campina Grande do Sul'\n",
      " 'Osório' 'Campos Gerais' 'Cerquilho' 'Uruaçu' 'Paracambi' 'Lagarto'\n",
      " 'Caçapava' 'Santa Fé do Sul' 'Presidente Epitácio' 'Afonso Cláudio'\n",
      " 'Palotina' 'Itabuna' 'Porangatu' 'Campo Belo' 'Tupã' 'Boituva' 'Extrema'\n",
      " 'Três Lagoas' 'Nazareno' 'Itinga do Maranhão' 'Santa Terezinha de Goiás'\n",
      " 'Catanduvas' 'Bom Jesus da Lapa' 'Marechal Cândido Rondon' 'Baturité'\n",
      " 'Caucaia' 'Artur Nogueira' 'São Mateus do Sul' 'Cruz Alta'\n",
      " 'Lagoa dos Patos' 'Piraju' 'Alvorada' 'Cataguases' 'Jandira' 'Pedreiras'\n",
      " 'São Sebastião' 'Navegantes' 'Nossa Senhora do Socorro' 'Pinhalzinho'\n",
      " 'Peruíbe' 'São Raimundo Nonato' 'Frederico Westphalen' 'Resende' 'Ubá'\n",
      " 'Currais Novos' 'Santa Luzia' 'Simões Filho' 'São Miguel do Oeste'\n",
      " 'Frutal' 'Sousa' 'Ituiutaba' 'Goianésia' 'Seringueiras' 'Loanda'\n",
      " 'Itacoatiara' 'Vazante' 'Quirinópolis' 'Piraúba' 'Ribas do Rio Pardo'\n",
      " 'Escada' 'Ourilândia do Norte' 'Paracatu' 'Vargem Grande Paulista'\n",
      " 'Conceição' 'Bambuí' 'Novo Horizonte' 'Matão' 'Carmo do Paranaíba'\n",
      " 'São José do Egito' 'Penápolis' 'São Miguel' 'Tailândia' 'Barra do Corda'\n",
      " 'Pesqueira' 'Buritis' 'Pontalina' 'Uruçuí' 'Formiga' 'Milhã'\n",
      " 'Taquaritinga' 'Eusébio' 'Agudos' 'Açailândia' 'Monte Carmelo'\n",
      " 'Dois Vizinhos' 'Indiara' 'Ferraz de Vasconcelos' 'Marialva'\n",
      " 'Divisa Alegre' 'Nova Xavantina' 'Arcos' 'Tucumã'\n",
      " 'Santa Cruz do Capibaribe' 'Breves' 'Goiatuba' 'Paulínia'\n",
      " 'Carmópolis de Minas' 'Horizonte' 'Cachoeira' 'Itamaraju' 'Iturama'\n",
      " 'Jaru' 'Guaçuí' 'Jaguariaíva' 'Arujá' 'Guaporé' 'Morrinhos' 'Coxim'\n",
      " 'Nova Esperança' 'Conchas' 'São Gotardo' 'Canindé de São Francisco'\n",
      " 'Marau' 'Indaial' 'Crateús' 'Iporá' 'Iguatama' 'Nova Petrópolis' 'Bonito'\n",
      " 'Barra Mansa' 'Costa Rica' 'Itaguaí' 'Auriflama' 'Itaúna' 'Guaramirim'\n",
      " 'Ouro Preto do Oeste' 'Santana' 'Ituberá' 'Araxá' 'Muzambinho'\n",
      " 'Paço do Lumiar' 'Rolim de Moura' 'Várzea Paulista' 'Ouro Preto'\n",
      " 'Osvaldo Cruz' 'Araguapaz' 'Piranga' 'Araucária' 'Lajeado' 'Itanhandu'\n",
      " 'Pedro Leopoldo' 'Dores do Indaiá' 'Chapadinha' 'Barra do Garças'\n",
      " 'Estrela' 'Queimados' 'Iporã' 'Ipaussu' 'Registro' 'Candeias' 'Capelinha'\n",
      " 'Pitanga' 'Amparo' 'Aquidauana' 'Itaporanga' 'Itapoá' 'Barcarena'\n",
      " 'Uruana de Minas' 'Lupércio' 'Ribeirão das Neves' 'Ivoti'\n",
      " 'Miguel Pereira' 'Tefé' 'Reduto' 'Gurupi' 'Maria da Fé' 'Tucano'\n",
      " 'Tapejara' 'Recreio' 'Santo Antônio do Descoberto'\n",
      " 'Capitão Leônidas Marques' 'Itapevi' 'Bezerros' 'Igrejinha'\n",
      " 'Paulo Afonso' 'Cabrobó' 'Rio das Pedras' 'Araguari' 'Orleans'\n",
      " 'Pará de Minas' 'Cocal do Sul' 'São Gonçalo do Amarante' 'Roseira'\n",
      " 'São Romão' 'Serrolândia' 'Itapiranga' 'Augustinópolis' 'Sabinópolis'\n",
      " 'Taquara' 'Pau dos Ferros' 'Luzerna' 'Quedas do Iguaçu' 'Xinguara'\n",
      " 'Amargosa' 'Ibiraçu' 'Jussara' 'Birigui' 'Conceição do Coité' 'Jaicós'\n",
      " 'Santo Antônio do Monte' 'Goioerê' 'Capivari' 'Francisco Beltrão'\n",
      " 'Surubim' 'Lapa' 'Paranaíba' 'Linhares' 'Lucélia' 'Bandeirantes'\n",
      " 'Lago da Pedra' 'Santo Antônio da Platina' 'Aguaí' 'Boa Esperança'\n",
      " 'Perdões' 'Jandaia do Sul' 'Cáceres' 'Vassouras' 'Xaxim' 'Ibaiti'\n",
      " 'Realeza' 'Senador Canedo' 'Colombo' 'Alto Horizonte' 'Ipiaú'\n",
      " 'Capão Bonito' 'Pires do Rio' 'Parambu' 'Mandaguari' 'Luz' 'Amambaí'\n",
      " 'Mundo Novo' 'Piripiri' 'Monte Alto' 'Três de Maio' 'Cacimbinhas'\n",
      " 'Santa Quitéria' 'Milagres' 'Socorro' 'Assis Chateaubriand' 'Guararapes'\n",
      " 'Junqueirópolis' 'Ribeira do Pombal' 'Mirandópolis' 'Parnarama' 'Anicuns'\n",
      " 'Coroatá' 'Conceição do Castelo' 'Maranguape' 'Itaberaba' 'Aracruz'\n",
      " 'Rio Negrinho' 'Itapema' 'Diamantina' 'Raposos' 'Orlândia'\n",
      " 'Sapucaia do Sul' 'Ribeirão Bonito' 'Inhumas' 'Conceição das Alagoas'\n",
      " 'Divino' 'Lajinha' 'Pereira Barreto' 'Remanso' 'Belo Oriente'\n",
      " 'Nova Venécia' 'Leme' 'Corrente' 'Matipó' 'João Pinheiro' 'Novo Cabrais'\n",
      " 'Teutônia' 'Taguaí' nan]\n"
     ]
    }
   ],
   "source": [
    "print(df['MUNICIPIO'].unique())"
   ]
  },
  {
   "cell_type": "code",
   "execution_count": 104,
   "id": "79877375",
   "metadata": {},
   "outputs": [
    {
     "name": "stdout",
     "output_type": "stream",
     "text": [
      "                                         NOME_DA_IES                MUNICIPIO\n",
      "0             Faculdade De Tecnologia Senac Curitiba                 Curitiba\n",
      "1                         Faculdade Regional Serrana  Venda Nova Do Imigrante\n",
      "2       Faculdade São Judas De São Bernardo Do Campo    São Bernardo Do Campo\n",
      "3  Faculdade Presidente Antônio Carlos De Bom Suc...              Bom Sucesso\n",
      "4                 Faculdade De Tecnologia De Jacareí                  Jacareí\n"
     ]
    }
   ],
   "source": [
    "df_aux['MUNICIPIO']= df_aux['MUNICIPIO'].fillna(\" Não informado\")\n",
    "\n",
    "df_aux['MUNICIPIO'] = df_aux['MUNICIPIO'].str.strip().str.title()\n",
    "\n",
    "print(df_aux[['NOME_DA_IES','MUNICIPIO']].head(5))"
   ]
  },
  {
   "cell_type": "markdown",
   "id": "ef3bd6e0",
   "metadata": {},
   "source": [
    "Na coluna UF haviam campos vazios declarados como nulos ou NaN( Not a Number) -->( Não é um Número) é usado para algo indefinido, com isso através da função fillna adicionamos a esses valores o campo \" Não informado\"."
   ]
  },
  {
   "cell_type": "code",
   "execution_count": 106,
   "id": "853b30cc",
   "metadata": {},
   "outputs": [
    {
     "name": "stdout",
     "output_type": "stream",
     "text": [
      "0    PR\n",
      "1    ES\n",
      "2    SP\n",
      "3    MG\n",
      "4    SP\n",
      "Name: UF, dtype: object\n"
     ]
    }
   ],
   "source": [
    "df_aux['UF']= df_aux['UF'].fillna(\" Não informado\")\n",
    "df_aux['UF'] = df_aux['UF'].str.strip().str.upper()\n",
    "\n",
    "print(df_aux['UF'].head(5))"
   ]
  },
  {
   "cell_type": "markdown",
   "id": "5a34749e",
   "metadata": {},
   "source": [
    "Na coluna SITUACAO_IES havia irregularidades onde em lugares tinha como 'Ativa' e em outros 'Em Atividade', então para padronizar alteramos onde tinha 'Ativa' mudamos para 'Em Atividade' e fizemos a alteração usando o title do pandas."
   ]
  },
  {
   "cell_type": "code",
   "execution_count": 107,
   "id": "8afe2ff0",
   "metadata": {},
   "outputs": [
    {
     "name": "stdout",
     "output_type": "stream",
     "text": [
      "['Ativa' 'Extinta' 'Em atividade' 'Em Atividade']\n"
     ]
    }
   ],
   "source": [
    "print(df['SITUACAO_IES'].unique())"
   ]
  },
  {
   "cell_type": "code",
   "execution_count": 108,
   "id": "d7e7ff7d",
   "metadata": {},
   "outputs": [],
   "source": [
    "df_aux['SITUACAO_IES'] = df_aux['SITUACAO_IES'].fillna(\" Não informado\")\n",
    "df_aux['SITUACAO_IES'] = df_aux['SITUACAO_IES'].str.strip().str.title()\n",
    "df_aux['SITUACAO_IES'] = df_aux['SITUACAO_IES'].replace({'Ativa': 'Em Atividade',})\n"
   ]
  },
  {
   "cell_type": "code",
   "execution_count": null,
   "id": "f94d9087",
   "metadata": {},
   "outputs": [
    {
     "name": "stdout",
     "output_type": "stream",
     "text": [
      "['Em Atividade' 'Extinta']\n"
     ]
    }
   ],
   "source": [
    "print(df_aux['SITUACAO_IES'].unique())  "
   ]
  },
  {
   "cell_type": "code",
   "execution_count": 122,
   "id": "678df9eb",
   "metadata": {},
   "outputs": [
    {
     "name": "stdout",
     "output_type": "stream",
     "text": [
      "0\n"
     ]
    }
   ],
   "source": [
    "linhas_nulas= df_aux['CODIGO_MUNICIPIO_IBGE'].isnull().sum()\n",
    "\n",
    "print(linhas_nulas)"
   ]
  },
  {
   "cell_type": "code",
   "execution_count": null,
   "id": "f4988c60",
   "metadata": {},
   "outputs": [],
   "source": [
    "print(df_aux[['NOME_DA_IES','SITUACAO_IES']].hea(5))"
   ]
  },
  {
   "cell_type": "markdown",
   "id": "c5065957",
   "metadata": {},
   "source": [
    "Tratamento dos dados nulos na coluna CODIGO_MUNICIPIO_IBGE"
   ]
  },
  {
   "cell_type": "code",
   "execution_count": 121,
   "id": "7f8908a9",
   "metadata": {},
   "outputs": [],
   "source": [
    "df_aux['CODIGO_MUNICIPIO_IBGE'] = df_aux['CODIGO_MUNICIPIO_IBGE'].fillna(\" Não informado\")"
   ]
  }
 ],
 "metadata": {
  "kernelspec": {
   "display_name": "Python 3",
   "language": "python",
   "name": "python3"
  },
  "language_info": {
   "codemirror_mode": {
    "name": "ipython",
    "version": 3
   },
   "file_extension": ".py",
   "mimetype": "text/x-python",
   "name": "python",
   "nbconvert_exporter": "python",
   "pygments_lexer": "ipython3",
   "version": "3.13.4"
  }
 },
 "nbformat": 4,
 "nbformat_minor": 5
}
