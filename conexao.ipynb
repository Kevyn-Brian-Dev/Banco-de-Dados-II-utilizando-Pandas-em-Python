{
 "cells": [
  {
   "cell_type": "code",
   "execution_count": 6,
   "id": "2d28e0f4",
   "metadata": {},
   "outputs": [
    {
     "name": "stdout",
     "output_type": "stream",
     "text": [
      "Conexão estabelecida com sucesso!\n"
     ]
    }
   ],
   "source": [
    "import pandas as pd\n",
    "import psycopg2  \n",
    "\n",
    "# Configurações de conexão\n",
    "try:\n",
    "    conn = psycopg2.connect(\n",
    "        host=\"localhost\",\n",
    "        database=\"projeto_semiestruturados\",\n",
    "        port=5432,\n",
    "        user=\"postgres\",\n",
    "        password=\"@renan123\"\n",
    "    )\n",
    "    print(\"Conexão estabelecida com sucesso!\")\n",
    "except psycopg2.Error as e:\n",
    "    print(f\"Erro ao conectar ao PostgreSQL: {e}\")\n",
    "    \n"
   ]
  },
  {
   "cell_type": "code",
   "execution_count": null,
   "id": "f56cb1da",
   "metadata": {},
   "outputs": [],
   "source": []
  }
 ],
 "metadata": {
  "kernelspec": {
   "display_name": "Python 3",
   "language": "python",
   "name": "python3"
  },
  "language_info": {
   "codemirror_mode": {
    "name": "ipython",
    "version": 3
   },
   "file_extension": ".py",
   "mimetype": "text/x-python",
   "name": "python",
   "nbconvert_exporter": "python",
   "pygments_lexer": "ipython3",
   "version": "3.13.4"
  }
 },
 "nbformat": 4,
 "nbformat_minor": 5
}
