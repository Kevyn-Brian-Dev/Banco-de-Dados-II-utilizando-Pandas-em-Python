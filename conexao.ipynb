{
 "cells": [
  {
   "cell_type": "markdown",
   "id": "3e7aa859",
   "metadata": {},
   "source": [
    "Conexão com o banco de dados"
   ]
  },
  {
   "cell_type": "code",
   "execution_count": 1,
   "id": "efccf016",
   "metadata": {},
   "outputs": [
    {
     "name": "stdout",
     "output_type": "stream",
     "text": [
      "Conexão estabelecida com sucesso!\n"
     ]
    }
   ],
   "source": [
    "import pandas as pd\n",
    "import psycopg2  \n",
    " \n",
    "\n",
    "# Configurações de conexão\n",
    "try:\n",
    "    conn = psycopg2.connect(\n",
    "        host=\"localhost\",\n",
    "        database=\"projeto_semiestruturado\",\n",
    "        port=5432,\n",
    "        user=\"postgres\",\n",
    "        password=\"@renan123\"\n",
    "    )\n",
    "    print(\"Conexão estabelecida com sucesso!\")\n",
    "except psycopg2.Error as e:\n",
    "    print(f\"Erro ao conectar ao PostgreSQL: {e}\")\n",
    "        \n"
   ]
  },
  {
   "cell_type": "markdown",
   "id": "cbd777d9",
   "metadata": {},
   "source": [
    "Comunicação com o banco de dados"
   ]
  },
  {
   "cell_type": "code",
   "execution_count": 2,
   "id": "da82b5f8",
   "metadata": {},
   "outputs": [],
   "source": [
    "cursor = conn.cursor()\n"
   ]
  },
  {
   "cell_type": "markdown",
   "id": "d2bfa334",
   "metadata": {},
   "source": [
    "Leitura do arquivo auxiliar"
   ]
  },
  {
   "cell_type": "code",
   "execution_count": 4,
   "id": "f56cb1da",
   "metadata": {},
   "outputs": [],
   "source": [
    "df = pd.read_csv(\"base_dados/df_auxiliar.csv\", encoding='utf-8')"
   ]
  },
  {
   "cell_type": "markdown",
   "id": "691dde40",
   "metadata": {},
   "source": [
    "Insere os dados na Tabela Organizacao_Academcica "
   ]
  },
  {
   "cell_type": "code",
   "execution_count": 5,
   "id": "77dc7f30",
   "metadata": {},
   "outputs": [],
   "source": [
    "df_organizacao_academica = df[['ORGANIZACAO_ACADEMICA']].drop_duplicates()\n",
    "\n",
    "for _, row in df_organizacao_academica.iterrows():\n",
    "    try:\n",
    "        cursor.execute(\"\"\"\n",
    "            INSERT INTO ORGANIZACAO_ACADEMICA (ORGANIZACAO_ACADEMICA) \n",
    "            VALUES (%s)\n",
    "            ON CONFLICT (ORGANIZACAO_ACADEMICA) DO NOTHING\n",
    "        \"\"\", (\n",
    "            row['ORGANIZACAO_ACADEMICA'],\n",
    "        ))\n",
    "    except Exception as e:\n",
    "        print(f\"Erro na linha ORG_ACAD {row['ORGANIZACAO_ACADEMICA']}: {e}\")\n",
    "        conn.rollback()\n",
    "\n",
    "conn.commit()\n"
   ]
  },
  {
   "cell_type": "markdown",
   "id": "3268d23a",
   "metadata": {},
   "source": [
    "Insere os dados na Tabela Categoria_IES "
   ]
  },
  {
   "cell_type": "code",
   "execution_count": null,
   "id": "1a9eaa78",
   "metadata": {},
   "outputs": [],
   "source": [
    "df_categoria_IES = df[['SIGLA', 'CATEGORIA_DA_IES']].drop_duplicates()\n",
    "\n",
    "for _, row in df_categoria_IES.iterrows():\n",
    "    try:\n",
    "        cursor.execute(\"\"\" \n",
    "            INSERT INTO CATEGORIA_DA_IES (SIGLA, NOME_CATEGORIA) \n",
    "            VALUES (%s, %s)\n",
    "            ON CONFLICT (SIGLA) DO NOTHING \"\"\", (\n",
    "            row['SIGLA'],\n",
    "            row['CATEGORIA_DA_IES']\n",
    "        ))\n",
    "    except Exception as e:\n",
    "        print(f\"Erro na linha CATEGORIA {row['SIGLA']}: {e}\")\n",
    "        conn.rollback()\n",
    "conn.commit()\n"
   ]
  },
  {
   "cell_type": "markdown",
   "id": "95f322e6",
   "metadata": {},
   "source": [
    "Insere os dados na Tabela Municipio "
   ]
  },
  {
   "cell_type": "code",
   "execution_count": null,
   "id": "25b40632",
   "metadata": {},
   "outputs": [],
   "source": [
    "import pandas as pd \n",
    "\n",
    "for _, row in df_municipio.iterrows():\n",
    "    try:\n",
    "        codigo_municipio_ibge = int(row['CODIGO_MUNICIPIO_IBGE']) if pd.notna(row['CODIGO_MUNICIPIO_IBGE']) else None\n",
    "\n",
    "        cursor.execute(\"\"\"\n",
    "            INSERT INTO MUNICIPIO (CODIGO_MUNICIPIO_IBGE, MUNICIPIO, UF)\n",
    "            VALUES (%s, %s, %s)\n",
    "            ON CONFLICT (CODIGO_MUNICIPIO_IBGE) DO UPDATE SET\n",
    "                MUNICIPIO = EXCLUDED.MUNICIPIO,\n",
    "                UF = EXCLUDED.UF\n",
    "        \"\"\", (\n",
    "            codigo_municipio_ibge,\n",
    "            row['MUNICIPIO'],\n",
    "            row['UF']\n",
    "        ))\n",
    "    except ValueError as ve: \n",
    "        print(f\"Erro de conversão de tipo na linha MUNICIPIO {row.get('CODIGO_MUNICIPIO_IBGE', 'N/A')}: {ve}\")\n",
    "        conn.rollback()\n",
    "    except Exception as e:\n",
    "        print(f\"Erro na linha MUNICIPIO {row.get('CODIGO_MUNICIPIO_IBGE', 'N/A')}: {e}\")\n",
    "        conn.rollback()\n",
    "\n",
    "conn.commit()"
   ]
  },
  {
   "cell_type": "markdown",
   "id": "3e75d48d",
   "metadata": {},
   "source": [
    "Pega os dados do arquivo, e coloca-os na Tabela geral do Banco de dados"
   ]
  },
  {
   "cell_type": "code",
   "execution_count": 11,
   "id": "1318c0f0",
   "metadata": {},
   "outputs": [],
   "source": [
    "for _, row in df.iterrows():\n",
    "    try:\n",
    "        cursor.execute(\"\"\"\n",
    "            INSERT INTO Instituicoes (\n",
    "                CODIGO_DA_IES,\n",
    "                NOME_DA_IES,\n",
    "                COMUNITARIA,\n",
    "                CONFESSIONAL,\n",
    "                FILANTROPICA,\n",
    "                SITUACAO_IES,\n",
    "                SIGLA,\n",
    "                ORGANIZACAO_ACADEMICA,\n",
    "                CATEGORIA_DA_IES,\n",
    "                CODIGO_MUNICIPIO_IBGE\n",
    "            ) \n",
    "            VALUES (%s, %s, %s, %s, %s, %s, %s, %s, %s, %s)\n",
    "            ON CONFLICT (CODIGO_DA_IES) DO UPDATE SET\n",
    "                NOME_DA_IES = EXCLUDED.NOME_DA_IES,\n",
    "                COMUNITARIA = EXCLUDED.COMUNITARIA,\n",
    "                CONFESSIONAL = EXCLUDED.CONFESSIONAL,\n",
    "                FILANTROPICA = EXCLUDED.FILANTROPICA,\n",
    "                SITUACAO_IES = EXCLUDED.SITUACAO_IES,\n",
    "                SIGLA = EXCLUDED.SIGLA,\n",
    "                ORGANIZACAO_ACADEMICA = EXCLUDED.ORGANIZACAO_ACADEMICA,\n",
    "                CATEGORIA_DA_IES = EXCLUDED.CATEGORIA_DA_IES,\n",
    "                CODIGO_MUNICIPIO_IBGE = EXCLUDED.CODIGO_MUNICIPIO_IBGE\n",
    "        \"\"\", (\n",
    "            int(row['CODIGO_DA_IES']),\n",
    "            row['NOME_DA_IES'],\n",
    "            bool(row['COMUNITARIA']),\n",
    "            bool(row['CONFESSIONAL']),\n",
    "            bool(row['FILANTROPICA']),\n",
    "            row['SITUACAO_IES'],\n",
    "            row['SIGLA'],\n",
    "            row['ORGANIZACAO_ACADEMICA'],\n",
    "            row['CATEGORIA_DA_IES'],\n",
    "            int(row['CODIGO_MUNICIPIO_IBGE'])\n",
    "        ))\n",
    "    except Exception as e:\n",
    "        print(f\"Erro na linha INSTITUICAO {row['CODIGO_DA_IES']}: {e}\")\n",
    "        conn.rollback()\n",
    "conn.commit()\n"
   ]
  },
  {
   "cell_type": "markdown",
   "id": "9131dd3d",
   "metadata": {},
   "source": [
    "Teste para ver se foi os dados para o PostgreSQL"
   ]
  },
  {
   "cell_type": "code",
   "execution_count": 12,
   "id": "fb872b20",
   "metadata": {},
   "outputs": [
    {
     "name": "stdout",
     "output_type": "stream",
     "text": [
      "Total de registros: 4525\n"
     ]
    }
   ],
   "source": [
    "cursor.execute(\"SELECT COUNT(*) FROM Instituicoes\")\n",
    "print(\"Total de registros:\", cursor.fetchone()[0])"
   ]
  }
 ],
 "metadata": {
  "kernelspec": {
   "display_name": "Python 3",
   "language": "python",
   "name": "python3"
  },
  "language_info": {
   "codemirror_mode": {
    "name": "ipython",
    "version": 3
   },
   "file_extension": ".py",
   "mimetype": "text/x-python",
   "name": "python",
   "nbconvert_exporter": "python",
   "pygments_lexer": "ipython3",
   "version": "3.13.4"
  }
 },
 "nbformat": 4,
 "nbformat_minor": 5
}
