{
 "cells": [
  {
   "cell_type": "markdown",
   "id": "3e7aa859",
   "metadata": {},
   "source": [
    "Conexão com o banco de dados"
   ]
  },
  {
   "cell_type": "code",
   "execution_count": 95,
   "id": "2d28e0f4",
   "metadata": {},
   "outputs": [
    {
     "name": "stdout",
     "output_type": "stream",
     "text": [
      "Conexão estabelecida com sucesso!\n"
     ]
    }
   ],
   "source": [
    "import pandas as pd\n",
    "import psycopg2  \n",
    "\n",
    "# Configurações de conexão\n",
    "try:\n",
    "    conn = psycopg2.connect(\n",
    "        host=\"localhost\",\n",
    "        database=\"projeto_semiestruturados\",\n",
    "        port=5432,\n",
    "        user=\"postgres\",\n",
    "        password=\"@renan123\"\n",
    "    )\n",
    "    print(\"Conexão estabelecida com sucesso!\")\n",
    "except psycopg2.Error as e:\n",
    "    print(f\"Erro ao conectar ao PostgreSQL: {e}\")\n",
    "    \n"
   ]
  },
  {
   "cell_type": "markdown",
   "id": "cbd777d9",
   "metadata": {},
   "source": [
    "Comunicação com o banco de dados"
   ]
  },
  {
   "cell_type": "code",
   "execution_count": 98,
   "id": "da82b5f8",
   "metadata": {},
   "outputs": [],
   "source": [
    "cursor = conn.cursor()\n"
   ]
  },
  {
   "cell_type": "markdown",
   "id": "d2bfa334",
   "metadata": {},
   "source": [
    "Leitura do arquivo auxiliar"
   ]
  },
  {
   "cell_type": "code",
   "execution_count": 97,
   "id": "f56cb1da",
   "metadata": {},
   "outputs": [],
   "source": [
    "df = pd.read_csv(\"base_dados/df_auxiliar.csv\", encoding='utf-8')"
   ]
  },
  {
   "cell_type": "markdown",
   "id": "3e75d48d",
   "metadata": {},
   "source": [
    "Pega os dados do arquivo, e coloca-os na Tabela geral do Banco de dados"
   ]
  },
  {
   "cell_type": "code",
   "execution_count": 106,
   "id": "1318c0f0",
   "metadata": {},
   "outputs": [],
   "source": [
    "for _, row in df.iterrows():\n",
    "    try:\n",
    "        cursor.execute(\"\"\"\n",
    "            INSERT INTO Instituicoes (CODIGO_DA_IES, NOME_DA_IES, SIGLA, CATEGORIA_DA_IES, \n",
    "            COMUNITARIA, CONFESSIONAL, FILANTROPICA, ORGANIZACAO_ACADEMICA, SITUACAO_IES) \n",
    "            VALUES (%s, %s, %s, %s, %s, %s, %s, %s, %s)\"\"\", (\n",
    "            int(row['CODIGO_DA_IES']),\n",
    "            row['NOME_DA_IES'],\n",
    "            row['SIGLA'],\n",
    "            row['CATEGORIA_DA_IES'],\n",
    "            bool(row['COMUNITARIA']),\n",
    "            bool(row['CONFESSIONAL']),\n",
    "            bool(row['FILANTROPICA']),\n",
    "            row['ORGANIZACAO_ACADEMICA'],\n",
    "            row['SITUACAO_IES']\n",
    "        ))\n",
    "    except Exception as e:\n",
    "        print(f\"Erro na linha {row['CODIGO_DA_IES']}: {e}\")\n",
    "        conn.rollback()  "
   ]
  },
  {
   "cell_type": "markdown",
   "id": "9131dd3d",
   "metadata": {},
   "source": [
    "Teste para ver se foi os dados para o PostgreSQL"
   ]
  },
  {
   "cell_type": "code",
   "execution_count": 107,
   "id": "fb872b20",
   "metadata": {},
   "outputs": [
    {
     "name": "stdout",
     "output_type": "stream",
     "text": [
      "Total de registros: 4525\n"
     ]
    }
   ],
   "source": [
    "cursor.execute(\"SELECT COUNT(*) FROM Instituicoes\")\n",
    "print(\"Total de registros:\", cursor.fetchone()[0])"
   ]
  },
  {
   "cell_type": "markdown",
   "id": "95f322e6",
   "metadata": {},
   "source": [
    "Insere os dados na Tabela Municipio "
   ]
  },
  {
   "cell_type": "code",
   "execution_count": 108,
   "id": "25b40632",
   "metadata": {},
   "outputs": [],
   "source": [
    "df_municipio = df[['CODIGO_DA_IES', 'MUNICIPIO', 'UF']].drop_duplicates()\n",
    "\n",
    "for _, row in df_municipio.iterrows():\n",
    "    try:\n",
    "        cursor.execute(\"\"\"\n",
    "            INSERT INTO MUNICIPIO (CODIGO_DA_IES, MUNICIPIO, UF) \n",
    "            VALUES (%s, %s, %s)\"\"\", (\n",
    "            str(row['CODIGO_DA_IES']),\n",
    "            row['MUNICIPIO'],\n",
    "            row['UF']\n",
    "        ))\n",
    "    except Exception as e:\n",
    "        print(f\"Erro na linha {row['CODIGO_DA_IES']}: {e}\")\n",
    "        conn.rollback()"
   ]
  },
  {
   "cell_type": "markdown",
   "id": "3268d23a",
   "metadata": {},
   "source": [
    "Insere os dados na Tabela Categoria_IES "
   ]
  },
  {
   "cell_type": "code",
   "execution_count": 109,
   "id": "1a9eaa78",
   "metadata": {},
   "outputs": [],
   "source": [
    "conn.rollback()\n",
    "df_categoria_IES = df[['SIGLA', 'CATEGORIA_DA_IES']].drop_duplicates()\n",
    "\n",
    "\n",
    "for _, row in df_categoria_IES.iterrows():\n",
    "    try:\n",
    "        cursor.execute(\"\"\" \n",
    "            INSERT INTO CATEGORIA_DA_IES ( SIGLA, CATEGORIA_DA_IES) \n",
    "            VALUES (%s, %s)\"\"\", (\n",
    "            row['SIGLA'],\n",
    "            row['CATEGORIA_DA_IES']\n",
    "        ))\n",
    "    except Exception as e:\n",
    "        print(f\"Erro na linha {row['SIGLA']}: {e}\")\n",
    "        conn.rollback()"
   ]
  },
  {
   "cell_type": "markdown",
   "id": "691dde40",
   "metadata": {},
   "source": [
    "Insere os dados na Tabela Organizacao_Academcica "
   ]
  },
  {
   "cell_type": "code",
   "execution_count": null,
   "id": "77dc7f30",
   "metadata": {},
   "outputs": [],
   "source": [
    "df_organizacao_academica = df[['ORGANIZACAO_ACADEMICA']].drop_duplicates()\n",
    "\n",
    "for _, row in df_organizacao_academica.iterrows():\n",
    "    try:\n",
    "        cursor.execute(\"\"\"\n",
    "            INSERT INTO ORGANIZACAO_ACADEMICA ( ORGANIZACAO_ACADEMICA) \n",
    "            VALUES (%s) \"\"\", (\n",
    "            row['ORGANIZACAO_ACADEMICA']\n",
    "        ))\n",
    "    except Exception as e:\n",
    "        print(f\"Erro na linha {row['ORGANIZACAO_ACADEMICA']}: {e}\")\n",
    "        conn.rollback()"
   ]
  }
 ],
 "metadata": {
  "kernelspec": {
   "display_name": "Python 3",
   "language": "python",
   "name": "python3"
  },
  "language_info": {
   "codemirror_mode": {
    "name": "ipython",
    "version": 3
   },
   "file_extension": ".py",
   "mimetype": "text/x-python",
   "name": "python",
   "nbconvert_exporter": "python",
   "pygments_lexer": "ipython3",
   "version": "3.13.4"
  }
 },
 "nbformat": 4,
 "nbformat_minor": 5
}
